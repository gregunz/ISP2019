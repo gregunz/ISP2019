{
 "cells": [
  {
   "cell_type": "code",
   "execution_count": 1,
   "metadata": {},
   "outputs": [
    {
     "ename": "FileNotFoundError",
     "evalue": "[Errno 2] No such file or directory: '-f'",
     "output_type": "error",
     "traceback": [
      "\u001b[0;31m---------------------------------------------------------------------------\u001b[0m",
      "\u001b[0;31mFileNotFoundError\u001b[0m                         Traceback (most recent call last)",
      "\u001b[0;32m<ipython-input-1-a29b295cbd84>\u001b[0m in \u001b[0;36m<module>\u001b[0;34m\u001b[0m\n\u001b[1;32m     66\u001b[0m         \u001b[0;31m# !!!!!!!!!!!!!!!!!!!!!!!!!!!!!\u001b[0m\u001b[0;34m\u001b[0m\u001b[0;34m\u001b[0m\u001b[0;34m\u001b[0m\u001b[0m\n\u001b[1;32m     67\u001b[0m         \u001b[0mdb_file\u001b[0m \u001b[0;34m=\u001b[0m \u001b[0msys\u001b[0m\u001b[0;34m.\u001b[0m\u001b[0margv\u001b[0m\u001b[0;34m[\u001b[0m\u001b[0;36m1\u001b[0m\u001b[0;34m]\u001b[0m\u001b[0;34m\u001b[0m\u001b[0;34m\u001b[0m\u001b[0m\n\u001b[0;32m---> 68\u001b[0;31m         \u001b[0;32mwith\u001b[0m \u001b[0mopen\u001b[0m\u001b[0;34m(\u001b[0m\u001b[0mdb_file\u001b[0m\u001b[0;34m)\u001b[0m \u001b[0;32mas\u001b[0m \u001b[0mf\u001b[0m\u001b[0;34m:\u001b[0m\u001b[0;34m\u001b[0m\u001b[0;34m\u001b[0m\u001b[0m\n\u001b[0m\u001b[1;32m     69\u001b[0m             \u001b[0mdb\u001b[0m \u001b[0;34m=\u001b[0m \u001b[0mlist\u001b[0m\u001b[0;34m(\u001b[0m\u001b[0mcsv\u001b[0m\u001b[0;34m.\u001b[0m\u001b[0mreader\u001b[0m\u001b[0;34m(\u001b[0m\u001b[0mf\u001b[0m\u001b[0;34m,\u001b[0m \u001b[0mskipinitialspace\u001b[0m\u001b[0;34m=\u001b[0m\u001b[0;32mTrue\u001b[0m\u001b[0;34m)\u001b[0m\u001b[0;34m)\u001b[0m\u001b[0;34m\u001b[0m\u001b[0;34m\u001b[0m\u001b[0m\n\u001b[1;32m     70\u001b[0m \u001b[0;34m\u001b[0m\u001b[0m\n",
      "\u001b[0;31mFileNotFoundError\u001b[0m: [Errno 2] No such file or directory: '-f'"
     ]
    }
   ],
   "source": [
    "#!/usr/bin/env python3\n",
    "\n",
    "import sys\n",
    "import random\n",
    "import datetime\n",
    "import csv\n",
    "\n",
    "from random import randrange, randint\n",
    "import numpy as np\n",
    "import scipy as sp\n",
    "\n",
    "date_start = datetime.date(2000, 1, 1)\n",
    "date_period = 365 * 17\n",
    "\n",
    "# Reads in emails.txt and movies.txt and creates 'num_movies' entries for each\n",
    "# email.\n",
    "# Returns the database for testing purposes, the emails and the movies\n",
    "def create_db(num_movies):\n",
    "    with open(\"emails.txt\") as f:\n",
    "        emails = f.read().split(\"\\n\")\n",
    "    while \"\" in emails:\n",
    "        emails.remove(\"\")\n",
    "\n",
    "    with open(\"movies.txt\") as f:\n",
    "        movies = f.read().split(\"\\n\")\n",
    "    while \"\" in movies:\n",
    "        movies.remove(\"\")\n",
    "\n",
    "    db = []\n",
    "\n",
    "    for email in emails[:3]:\n",
    "        movies_index = list(range(0, len(movies)))\n",
    "        random.shuffle(movies_index)\n",
    "        for i, f in enumerate(movies_index[0:num_movies]):\n",
    "            dat = date_start + datetime.timedelta(randint(1, date_period))\n",
    "            db.append([email, movies[f], dat, randint(1, 5)])\n",
    "\n",
    "    return db, emails, movies\n",
    "\n",
    "\n",
    "def count_ratings(db, movies, rating_levels):\n",
    "    k = len(movies)\n",
    "    assert len(movies) == len(rating_levels) == k\n",
    "\n",
    "    # TODO: Write your code here.\n",
    "\n",
    "    return []\n",
    "\n",
    "\n",
    "if __name__ == \"__main__\":\n",
    "    if len(sys.argv) == 1:\n",
    "        # You can change this part to test the queries as you like.\n",
    "        print(\"Testing mode\")\n",
    "        db, emails, movies = create_db(2)\n",
    "        print(\"------------\")\n",
    "        queried_movies = movies[:5]\n",
    "        queried_rating_levels = np.random.randint(1, high=5, size=5)\n",
    "        results = count_ratings(db, queried_movies, queried_rating_levels)\n",
    "        print(\"Queried movies:\", queried_movies)\n",
    "        print(\"Queried rating levels:\", queried_rating_levels)\n",
    "        print(\"Response:\", results)\n",
    "\n",
    "    else:\n",
    "        # !!!!!!!!!!!!!!!!!!!!!!!!!!!!!\n",
    "        # !! Do not modify this part !!\n",
    "        # !!!!!!!!!!!!!!!!!!!!!!!!!!!!!\n",
    "        db_file = sys.argv[1]\n",
    "        with open(db_file) as f:\n",
    "            db = list(csv.reader(f, skipinitialspace=True))\n",
    "\n",
    "        # Get nice ints for comparisons\n",
    "        for i, line in enumerate(db):\n",
    "            db[i][3] = int(line[3])\n",
    "\n",
    "        movies, rating_levels = sys.argv[2:4]\n",
    "        movies = movies.split('|')\n",
    "        rating_levels = [int(x) for x in rating_levels.split(',')]\n",
    "        result = count_ratings(db, movies, rating_levels)\n",
    "\n",
    "        with open(\"/tmp/student.csv\", \"w\") as f:\n",
    "            writer = csv.writer(f)\n",
    "            writer.writerows([result])\n"
   ]
  },
  {
   "cell_type": "code",
   "execution_count": 7,
   "metadata": {},
   "outputs": [
    {
     "data": {
      "text/plain": [
       "'Use sequential composition property of differential privacy to derive the required epsilon level for each individual query'"
      ]
     },
     "execution_count": 7,
     "metadata": {},
     "output_type": "execute_result"
    }
   ],
   "source": [
    "\"\"\"\\\n",
    "Use sequential composition property of differential privacy to derive the required epsilon level for each individual query\\\n",
    "\"\"\""
   ]
  },
  {
   "cell_type": "code",
   "execution_count": null,
   "metadata": {},
   "outputs": [],
   "source": []
  }
 ],
 "metadata": {
  "kernelspec": {
   "display_name": "Python 3",
   "language": "python",
   "name": "python3"
  },
  "language_info": {
   "codemirror_mode": {
    "name": "ipython",
    "version": 3
   },
   "file_extension": ".py",
   "mimetype": "text/x-python",
   "name": "python",
   "nbconvert_exporter": "python",
   "pygments_lexer": "ipython3",
   "version": "3.6.8"
  }
 },
 "nbformat": 4,
 "nbformat_minor": 2
}
