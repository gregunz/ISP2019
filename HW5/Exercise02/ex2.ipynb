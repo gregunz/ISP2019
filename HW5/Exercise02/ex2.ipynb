{
 "cells": [
  {
   "cell_type": "code",
   "execution_count": 1,
   "metadata": {},
   "outputs": [],
   "source": [
    "import time\n",
    "import requests as req\n",
    "import itertools as it\n",
    "from tqdm import tqdm_notebook as tqdm\n",
    "import numpy as np"
   ]
  },
  {
   "cell_type": "code",
   "execution_count": 2,
   "metadata": {},
   "outputs": [
    {
     "data": {
      "text/plain": [
       "'abcdefghijklmnopqrstuvwxyz0123456789ABCDEFGHIJKLMNOPQRSTUVWXYZ'"
      ]
     },
     "execution_count": 2,
     "metadata": {},
     "output_type": "execute_result"
    }
   ],
   "source": [
    "chars = [chr(ord('a')+i) for i in range(26)]\n",
    "chars.extend(str(i) for i in range(10))\n",
    "chars.extend([chr(ord('A')+i) for i in range(26)])\n",
    "\n",
    "''.join(chars)"
   ]
  },
  {
   "cell_type": "code",
   "execution_count": 3,
   "metadata": {},
   "outputs": [],
   "source": [
    "url = 'http://com402.epfl.ch/hw5/ex3'"
   ]
  },
  {
   "cell_type": "code",
   "execution_count": 4,
   "metadata": {},
   "outputs": [],
   "source": [
    "duration_hist = {}"
   ]
  },
  {
   "cell_type": "code",
   "execution_count": 5,
   "metadata": {},
   "outputs": [],
   "source": [
    "messages = set()"
   ]
  },
  {
   "cell_type": "code",
   "execution_count": 6,
   "metadata": {},
   "outputs": [],
   "source": [
    "s = req.Session()"
   ]
  },
  {
   "cell_type": "code",
   "execution_count": 7,
   "metadata": {},
   "outputs": [],
   "source": [
    "def generate_token(start_string='', length=12):\n",
    "    n = length - len(start_string)\n",
    "    return start_string + '#' * n #''.join(next(it.product(*[chars for _ in range(n)])))"
   ]
  },
  {
   "cell_type": "code",
   "execution_count": 8,
   "metadata": {},
   "outputs": [],
   "source": [
    "def payload(token):\n",
    "    return{'email': 'gregoire.clement@epfl.ch', 'token':  token}"
   ]
  },
  {
   "cell_type": "code",
   "execution_count": 9,
   "metadata": {},
   "outputs": [],
   "source": [
    "def time_request(token):\n",
    "    pload = payload(token)\n",
    "    start = time.time()\n",
    "    resp = s.post(url, json=pload)\n",
    "    duration = time.time() - start\n",
    "    m = resp.content.decode()\n",
    "    if resp.status_code is 200:\n",
    "        print('DONE!!!! CONGRATS!!!!')\n",
    "        print('ex2 = \"{}\"'.format(m))\n",
    "    else:\n",
    "        if m not in messages:\n",
    "            messages.add(m)\n",
    "            print(m)\n",
    "    if token not in duration_hist:\n",
    "        duration_hist[token] = []\n",
    "    duration_hist[token].append(duration)\n",
    "    return duration"
   ]
  },
  {
   "cell_type": "code",
   "execution_count": 10,
   "metadata": {},
   "outputs": [
    {
     "data": {
      "text/plain": [
       "('############', 12)"
      ]
     },
     "execution_count": 10,
     "metadata": {},
     "output_type": "execute_result"
    }
   ],
   "source": [
    "generate_token(), len(generate_token())"
   ]
  },
  {
   "cell_type": "code",
   "execution_count": null,
   "metadata": {},
   "outputs": [
    {
     "data": {
      "application/vnd.jupyter.widget-view+json": {
       "model_id": "476d3baf3df14444a232d77b5654a818",
       "version_major": 2,
       "version_minor": 0
      },
      "text/plain": [
       "HBox(children=(IntProgress(value=0, max=21), HTML(value='')))"
      ]
     },
     "metadata": {},
     "output_type": "display_data"
    },
    {
     "name": "stdout",
     "output_type": "stream",
     "text": [
      "My life is a perfect graveyard of buried hopes\n"
     ]
    }
   ],
   "source": [
    "only_hashtag_time = [time_request(generate_token()) for _ in tqdm(list(range(21)))][1:]"
   ]
  },
  {
   "cell_type": "code",
   "execution_count": null,
   "metadata": {},
   "outputs": [],
   "source": [
    "mean = np.mean(only_hashtag_time)\n",
    "median = np.median(only_hashtag_time)\n",
    "std = np.std(only_hashtag_time)\n",
    "min_ = np.min(only_hashtag_time)\n",
    "max_ = np.max(only_hashtag_time)\n",
    "\n",
    "mean, median, std, min_, max_"
   ]
  },
  {
   "cell_type": "code",
   "execution_count": null,
   "metadata": {},
   "outputs": [],
   "source": [
    "time_per_char = median / 12\n",
    "def expected_time(n_chars_found):\n",
    "    return (12 - n_chars_found + .5) * time_per_char\n",
    "\n",
    "expected_time(1)"
   ]
  },
  {
   "cell_type": "code",
   "execution_count": null,
   "metadata": {},
   "outputs": [],
   "source": [
    "for _ in range(5):\n",
    "    for c in tqdm(chars):\n",
    "        chars_found = '' + c\n",
    "        token = generate_token(c)\n",
    "        duration = time_request(token)\n",
    "        if duration < expected_time(len(chars_found)):\n",
    "            print(c, duration)"
   ]
  },
  {
   "cell_type": "code",
   "execution_count": null,
   "metadata": {},
   "outputs": [],
   "source": [
    "def show_stats():\n",
    "    duration_medians = [(token, np.median(h)) for token,h in duration_hist.items()]\n",
    "    for k,v in sorted(duration_medians, key=lambda x: x[1]):\n",
    "        if k is generate_token():\n",
    "            print('>> all false I guess <<')\n",
    "        print('{} {:0.2f}'.format(k, np.median(v)))"
   ]
  },
  {
   "cell_type": "code",
   "execution_count": null,
   "metadata": {},
   "outputs": [],
   "source": [
    "show_stats()"
   ]
  },
  {
   "cell_type": "code",
   "execution_count": null,
   "metadata": {},
   "outputs": [],
   "source": []
  }
 ],
 "metadata": {
  "kernelspec": {
   "display_name": "Python 3",
   "language": "python",
   "name": "python3"
  },
  "language_info": {
   "codemirror_mode": {
    "name": "ipython",
    "version": 3
   },
   "file_extension": ".py",
   "mimetype": "text/x-python",
   "name": "python",
   "nbconvert_exporter": "python",
   "pygments_lexer": "ipython3",
   "version": "3.6.8"
  }
 },
 "nbformat": 4,
 "nbformat_minor": 2
}
