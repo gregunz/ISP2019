{
 "cells": [
  {
   "cell_type": "code",
   "execution_count": 1,
   "metadata": {},
   "outputs": [],
   "source": [
    "import time\n",
    "import requests as req\n",
    "import itertools as it\n",
    "from tqdm import tqdm_notebook as tqdm\n",
    "import numpy as np"
   ]
  },
  {
   "cell_type": "code",
   "execution_count": 5,
   "metadata": {},
   "outputs": [
    {
     "data": {
      "text/plain": [
       "'abcdefghijklmnopqrstuvwxyz0123456789ABCDEFGHIJKLMNOPQRSTUVWXYZ'"
      ]
     },
     "execution_count": 5,
     "metadata": {},
     "output_type": "execute_result"
    }
   ],
   "source": [
    "chars = [chr(ord('a')+i) for i in range(26)]\n",
    "chars.extend(str(i) for i in range(10))\n",
    "chars.extend([chr(ord('A')+i) for i in range(26)])\n",
    "\n",
    "''.join(chars)"
   ]
  },
  {
   "cell_type": "code",
   "execution_count": 3,
   "metadata": {},
   "outputs": [],
   "source": [
    "url = 'http://com402.epfl.ch/hw5/ex3'"
   ]
  },
  {
   "cell_type": "code",
   "execution_count": 25,
   "metadata": {},
   "outputs": [],
   "source": [
    "duration_hist = {}"
   ]
  },
  {
   "cell_type": "code",
   "execution_count": 26,
   "metadata": {},
   "outputs": [],
   "source": [
    "messages = set()"
   ]
  },
  {
   "cell_type": "code",
   "execution_count": 27,
   "metadata": {},
   "outputs": [],
   "source": [
    "s = req.Session()"
   ]
  },
  {
   "cell_type": "code",
   "execution_count": 29,
   "metadata": {},
   "outputs": [],
   "source": [
    "def generate_token(start_string='', length=12):\n",
    "    n = length - len(start_string)\n",
    "    return start_string + '#' * n #''.join(next(it.product(*[chars for _ in range(n)])))"
   ]
  },
  {
   "cell_type": "code",
   "execution_count": 4,
   "metadata": {},
   "outputs": [],
   "source": [
    "def payload(token):\n",
    "    return{'email': 'gregoire.clement@epfl.ch', 'token':  token}"
   ]
  },
  {
   "cell_type": "code",
   "execution_count": 28,
   "metadata": {},
   "outputs": [],
   "source": [
    "def time_request(token):\n",
    "    pload = payload(token)\n",
    "    start = time.time()\n",
    "    resp = s.post(url, json=pload)\n",
    "    duration = time.time() - start\n",
    "    m = resp.content.decode()\n",
    "    if resp.status_code is 200:\n",
    "        print('DONE!!!! CONGRATS!!!!')\n",
    "        print('ex2 = \"{}\"'.format(m))\n",
    "    else:\n",
    "        if m not in messages:\n",
    "            messages.add(m)\n",
    "            print(m)\n",
    "    if token not in duration_hist:\n",
    "        duration_hist[token] = []\n",
    "    duration_hist[token].append(duration)\n",
    "    return duration"
   ]
  },
  {
   "cell_type": "code",
   "execution_count": 30,
   "metadata": {},
   "outputs": [
    {
     "data": {
      "text/plain": [
       "('############', 12)"
      ]
     },
     "execution_count": 30,
     "metadata": {},
     "output_type": "execute_result"
    }
   ],
   "source": [
    "generate_token(), len(generate_token())"
   ]
  },
  {
   "cell_type": "code",
   "execution_count": 32,
   "metadata": {},
   "outputs": [
    {
     "data": {
      "application/vnd.jupyter.widget-view+json": {
       "model_id": "6c504a39e3ad4c85962a3684114d75f5",
       "version_major": 2,
       "version_minor": 0
      },
      "text/plain": [
       "HBox(children=(IntProgress(value=0, max=21), HTML(value='')))"
      ]
     },
     "metadata": {},
     "output_type": "display_data"
    },
    {
     "name": "stdout",
     "output_type": "stream",
     "text": [
      "My life is a perfect graveyard of buried hopes\n"
     ]
    }
   ],
   "source": [
    "only_hashtag_time = [time_request(generate_token()) for _ in tqdm(list(range(21)))][1:]"
   ]
  },
  {
   "cell_type": "code",
   "execution_count": 34,
   "metadata": {},
   "outputs": [
    {
     "data": {
      "text/plain": [
       "(4.096018218994141,\n",
       " 4.4997169971466064,\n",
       " 1.2356521798679652,\n",
       " 0.13864898681640625,\n",
       " 5.644639015197754)"
      ]
     },
     "execution_count": 34,
     "metadata": {},
     "output_type": "execute_result"
    }
   ],
   "source": [
    "mean = np.mean(only_hashtag_time)\n",
    "median = np.median(only_hashtag_time)\n",
    "std = np.std(only_hashtag_time)\n",
    "min_ = np.min(only_hashtag_time)\n",
    "max_ = np.max(only_hashtag_time)\n",
    "\n",
    "mean, median, std, min_, max_"
   ]
  },
  {
   "cell_type": "code",
   "execution_count": 44,
   "metadata": {},
   "outputs": [
    {
     "data": {
      "text/plain": [
       "4.312228788932164"
      ]
     },
     "execution_count": 44,
     "metadata": {},
     "output_type": "execute_result"
    }
   ],
   "source": [
    "time_per_char = median / 12\n",
    "def expected_time(n_chars_found):\n",
    "    return (12 - n_chars_found + .5) * time_per_char\n",
    "\n",
    "expected_time(1)"
   ]
  },
  {
   "cell_type": "code",
   "execution_count": null,
   "metadata": {},
   "outputs": [
    {
     "data": {
      "application/vnd.jupyter.widget-view+json": {
       "model_id": "0239f88696d54cab8fd6b9d84569c24b",
       "version_major": 2,
       "version_minor": 0
      },
      "text/plain": [
       "HBox(children=(IntProgress(value=0, max=62), HTML(value='')))"
      ]
     },
     "metadata": {},
     "output_type": "display_data"
    },
    {
     "name": "stdout",
     "output_type": "stream",
     "text": [
      "G 0.023469924926757812\n",
      "H 1.0887415409088135\n",
      "J 0.03900313377380371\n",
      "K 1.0099642276763916\n"
     ]
    }
   ],
   "source": [
    "for _ in range(5):\n",
    "    for c in tqdm(chars):\n",
    "        chars_found = '' + c\n",
    "        token = generate_token(c)\n",
    "        duration = time_request(token)\n",
    "        if duration < expected_time(len(chars_found)):\n",
    "            print(c, duration)"
   ]
  },
  {
   "cell_type": "code",
   "execution_count": 49,
   "metadata": {},
   "outputs": [
    {
     "name": "stdout",
     "output_type": "stream",
     "text": [
      "############ 4.142969721839542\n",
      "a########### 3.6483352184295654\n",
      "b########### 3.768075704574585\n",
      "c########### 4.605086803436279\n",
      "d########### 4.511310338973999\n",
      "e########### 4.467623233795166\n",
      "f########### 3.708935260772705\n",
      "g########### 4.5123817920684814\n",
      "h########### 4.52170991897583\n",
      "i########### 4.569931983947754\n",
      "j########### 0.03527569770812988\n",
      "k########### 1.0401906967163086\n",
      "l########### 5.582399368286133\n",
      "m########### 0.015270233154296875\n",
      "n########### 1.1176941394805908\n",
      "o########### 5.3681862354278564\n",
      "p########### 0.03197216987609863\n",
      "q########### 1.1013879776000977\n",
      "r########### 5.447453498840332\n",
      "s########### 0.014339208602905273\n",
      "t########### 1.0453956127166748\n",
      "u########### 5.493626117706299\n",
      "v########### 0.014505863189697266\n",
      "w########### 1.000765323638916\n",
      "x########### 5.518835067749023\n",
      "y########### 0.016352415084838867\n",
      "z########### 1.0249855518341064\n"
     ]
    }
   ],
   "source": [
    "for k,v in duration_hist.items():\n",
    "    print(k, np.median(v))"
   ]
  },
  {
   "cell_type": "code",
   "execution_count": null,
   "metadata": {},
   "outputs": [],
   "source": []
  }
 ],
 "metadata": {
  "kernelspec": {
   "display_name": "Python 3",
   "language": "python",
   "name": "python3"
  },
  "language_info": {
   "codemirror_mode": {
    "name": "ipython",
    "version": 3
   },
   "file_extension": ".py",
   "mimetype": "text/x-python",
   "name": "python",
   "nbconvert_exporter": "python",
   "pygments_lexer": "ipython3",
   "version": "3.6.8"
  }
 },
 "nbformat": 4,
 "nbformat_minor": 2
}
