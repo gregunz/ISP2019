{
 "cells": [
  {
   "cell_type": "code",
   "execution_count": 1,
   "metadata": {},
   "outputs": [],
   "source": [
    "import os\n",
    "import binascii\n",
    "\n",
    "import numpy as np\n",
    "import pandas as pd\n",
    "import itertools as it\n",
    "\n",
    "from hashlib import sha256\n",
    "\n",
    "from tqdm import tqdm_notebook as tqdm"
   ]
  },
  {
   "cell_type": "code",
   "execution_count": 2,
   "metadata": {},
   "outputs": [],
   "source": [
    "H = lambda x: sha256(x.encode('utf-8') if type(x) is str else x).hexdigest()"
   ]
  },
  {
   "cell_type": "markdown",
   "metadata": {},
   "source": [
    "# Part 1"
   ]
  },
  {
   "cell_type": "code",
   "execution_count": 3,
   "metadata": {},
   "outputs": [],
   "source": [
    "sha1 = \"\"\"efa52cf7077b052710cea2bdb5af38f16a1e99ac0bdc583fb2ae71ac675e8999\n",
    "939d0e1ccf67d003fb03f23e34d406a9a8bc6692cb97fb5753cb7b25fd5de12f\n",
    "3fca1d324e7142851d1ddf5c87bebd375e363094abac100ed20da75c6e5d6d9d\n",
    "6b35f17b91f62b74a0b71c100fa349c5704cca921d3d2655f9d9795305ff3ab2\n",
    "c921fba3ad7d1ab2b7ce7bf080755ff81540f36c1672aca046e663374331100f\n",
    "94886ed84ed5bb5c8c050c12a76a5e12f75ce9d9886805cb80c6d6964401a21c\n",
    "606b491415dbc766f3f165a329706494ed9e9848026be3aae026f8a8ca70a6bd\n",
    "1b0de068c81afe94cda5e28fe6b65156477f24aa489b4e60ec93a6ae4d1dfbb9\n",
    "570fcafd562921a52dd7897b633102342a0c55d51aff2b05f9efa4f15ce3e66e\n",
    "0c1a7007a670aca720843c70395ebc7e8d54d84aa38e453ef104e6f69a026216\"\"\".split('\\n')\n",
    "\n",
    "found = dict()"
   ]
  },
  {
   "cell_type": "code",
   "execution_count": 5,
   "metadata": {},
   "outputs": [],
   "source": [
    "chars = [chr(ord('a') + i) for i in range(26)] + [str(i) for i in range(10)]"
   ]
  },
  {
   "cell_type": "code",
   "execution_count": 7,
   "metadata": {},
   "outputs": [],
   "source": [
    "passwords_1 = iter(''.join(c) for n in range(4, 7) for c in it.product(chars, repeat=n))"
   ]
  },
  {
   "cell_type": "code",
   "execution_count": 8,
   "metadata": {},
   "outputs": [],
   "source": [
    "def process(p):\n",
    "    if len(sha1) > len(found):\n",
    "        h = H(p)\n",
    "        if h in sha1:\n",
    "            found[h] = p\n",
    "            print(h, p)\n",
    "    return len(sha1) == len(found)"
   ]
  },
  {
   "cell_type": "code",
   "execution_count": null,
   "metadata": {},
   "outputs": [
    {
     "data": {
      "application/vnd.jupyter.widget-view+json": {
       "model_id": "35610fa43c95415b86da3a5229268a4d",
       "version_major": 2,
       "version_minor": 0
      },
      "text/plain": [
       "HBox(children=(IntProgress(value=1, bar_style='info', max=1), HTML(value='')))"
      ]
     },
     "metadata": {},
     "output_type": "display_data"
    },
    {
     "name": "stdout",
     "output_type": "stream",
     "text": [
      "6b35f17b91f62b74a0b71c100fa349c5704cca921d3d2655f9d9795305ff3ab2 5i43\n",
      "606b491415dbc766f3f165a329706494ed9e9848026be3aae026f8a8ca70a6bd 5won\n",
      "0c1a7007a670aca720843c70395ebc7e8d54d84aa38e453ef104e6f69a026216 dcbcf\n",
      "939d0e1ccf67d003fb03f23e34d406a9a8bc6692cb97fb5753cb7b25fd5de12f mu0gw\n",
      "1b0de068c81afe94cda5e28fe6b65156477f24aa489b4e60ec93a6ae4d1dfbb9 1vy5e\n",
      "94886ed84ed5bb5c8c050c12a76a5e12f75ce9d9886805cb80c6d6964401a21c difgmn\n",
      "570fcafd562921a52dd7897b633102342a0c55d51aff2b05f9efa4f15ce3e66e hsqaoz\n",
      "efa52cf7077b052710cea2bdb5af38f16a1e99ac0bdc583fb2ae71ac675e8999 qv0zkp\n",
      "3fca1d324e7142851d1ddf5c87bebd375e363094abac100ed20da75c6e5d6d9d t2ex8o\n"
     ]
    }
   ],
   "source": [
    "for p in tqdm(passwords_1):\n",
    "    if process(p):\n",
    "        break"
   ]
  },
  {
   "cell_type": "code",
   "execution_count": null,
   "metadata": {},
   "outputs": [],
   "source": [
    "with open('solutions/ex2a.txt', 'w') as file:\n",
    "    txt = ','.join([found[h] for h in sha1])\n",
    "    print(txt)\n",
    "    file.write(txt)"
   ]
  },
  {
   "cell_type": "markdown",
   "metadata": {},
   "source": [
    "# Part 2"
   ]
  },
  {
   "cell_type": "code",
   "execution_count": null,
   "metadata": {},
   "outputs": [],
   "source": [
    "sha2 = \"\"\"b8f0ee09d8d9abe84a71fba27f454db188501aa78164e61a12d032879d663c21\n",
    "587b1dcdf195135ac5f8b846a086f15a5dc27183e12b5ce1812ab36440dd54b2\n",
    "0d7ef82f2f399ae61eb2fdd79292e8376f9345aba4eb200d3b9c35606a3533b3\n",
    "6c1840f180ec99ca8e47d0f73ee2301954879e568b69f2959637ab5b57d37d36\n",
    "ee00c5c5ccf61db09456dc0308acdb03b38948a3b49a1c7975169e5c559534ef\n",
    "e424f6a5c4bbd25944dbd3327f5d1b019174122dd5a9cfc2044b6b03c236c3c1\n",
    "e30b82bf64bdcef239bc230cf5c58b6dda4ae9dfcc49e0b747d073b57b4869ec\n",
    "cdc8fa76b1046cf7cb0263897c3ab3b6616965526ebb343fec9782bbd011ec3b\n",
    "9de3260563d2b529cfa4ec48902378685f265d605ac8b1a185a387897d51e6ba\n",
    "ede0c87822e2dacc529a669d94c9b5e00f8233d00041e7b3f29ea6de0b509e15\"\"\".split('\\n')\n",
    "\n",
    "found2 = dict()"
   ]
  },
  {
   "cell_type": "code",
   "execution_count": null,
   "metadata": {},
   "outputs": [],
   "source": [
    "filenames = ['cain.txt', 'john.txt', '500-worst-passwords.txt', 'conficker.txt', 'twitter-banned.txt', 'rockyou.txt']\n",
    "chars = [chr(ord('a') + i) for i in range(26)] + [str(i) for i in range(10)]"
   ]
  },
  {
   "cell_type": "code",
   "execution_count": null,
   "metadata": {},
   "outputs": [],
   "source": [
    "passwords_2 = []\n",
    "for fname in filenames:\n",
    "    with open('passwords/'+fname, 'r') as f:\n",
    "        for line in f:\n",
    "            line = line.replace('\\n', '')\n",
    "            line = line.strip()\n",
    "            line = line.lower()\n",
    "            if type(line) is str and \\\n",
    "                len(set(line) - set(chars)) == 0 and\\\n",
    "                len(line) > 0:\n",
    "                passwords_2.append(line)"
   ]
  },
  {
   "cell_type": "code",
   "execution_count": null,
   "metadata": {},
   "outputs": [],
   "source": [
    "passwords_2 = set(passwords_2)"
   ]
  },
  {
   "cell_type": "code",
   "execution_count": null,
   "metadata": {},
   "outputs": [],
   "source": [
    "len(passwords_2)"
   ]
  },
  {
   "cell_type": "code",
   "execution_count": null,
   "metadata": {},
   "outputs": [],
   "source": [
    "def transform(p, title=False, e_to_3=False, o_to_0=False, i_to_1=False):\n",
    "    if title:\n",
    "        p = p.title()\n",
    "    if e_to_3:\n",
    "        p = p.replace('e', '3')\n",
    "        p = p.replace('E', '3')\n",
    "    if o_to_0:\n",
    "        p = p.replace('o', '0')\n",
    "        p = p.replace('O', '0')\n",
    "    if i_to_1:\n",
    "        p = p.replace('i', '1')\n",
    "        p = p.replace('I', '1')\n",
    "    return p"
   ]
  },
  {
   "cell_type": "code",
   "execution_count": null,
   "metadata": {},
   "outputs": [],
   "source": [
    "def all_ts(p):\n",
    "    ts = []\n",
    "    e_in = 'e' in p or 'E' in p\n",
    "    o_in = 'o' in p or 'O' in p\n",
    "    i_in = 'i' in p or 'I' in p\n",
    "    for t in it.product([True, False], repeat=1 + e_in + o_in + i_in):\n",
    "        bools = [t[0], t[1] if e_in else False, t[1 + e_in] if o_in else False, t[1 + e_in + o_in] if i_in else False]\n",
    "        ts.append(bools)\n",
    "    return ts"
   ]
  },
  {
   "cell_type": "code",
   "execution_count": null,
   "metadata": {},
   "outputs": [],
   "source": [
    "for p in tqdm(passwords_2):\n",
    "    for t in all_ts(p):\n",
    "        p2 = transform(p, *t)\n",
    "        h = H(p2)\n",
    "        if h in sha2 and not h in found2:\n",
    "            found2[h] = p2\n",
    "            print(h, p2)\n",
    "            if len(found2) == len(sha2):\n",
    "                break\n",
    "    else:\n",
    "        continue  # only executed if the inner loop did NOT break\n",
    "    break"
   ]
  },
  {
   "cell_type": "code",
   "execution_count": null,
   "metadata": {},
   "outputs": [],
   "source": [
    "with open('solutions/ex2b.txt', 'w') as file:\n",
    "    txt = ','.join([found2[h] for h in sha2])\n",
    "    print(txt)\n",
    "    file.write(txt)"
   ]
  },
  {
   "cell_type": "markdown",
   "metadata": {},
   "source": [
    "## Part 3"
   ]
  },
  {
   "cell_type": "code",
   "execution_count": null,
   "metadata": {},
   "outputs": [],
   "source": [
    "salt_and_sha3 = \"\"\"84, 6787c49bffbed3ff8b72efd9b2bf69c0a52ee3a20c97b8fb2beb7891f5f1c654\n",
    "d6, 4953cc1c9b3fa7ba9bbde38fd7382ced443a4a3930ec0e809a38847d6f32d2a8\n",
    "54, ee6d03f83d69d0ee20774fe29ef694a14842c7f5746c7fec29a6912674a25116\n",
    "82, e18f8c2d53ed8d1dead4e9c24089d03c8ec09940598bcb5aab10d00cc615ce2e\n",
    "a3, 53c1d664b0a7bc40ad70542f82fd25064ab496a874cc8e67030238d2c16121b0\n",
    "d6, 00358b64c1c57f313c11d2a6f5c20bf55f551fba9a149bfa14f81fd7ee9ac713\n",
    "b2, 1deef44913915b78b60bbdc2260eb6273a8d2b3f6f70aeee52eafcba5e37c7c4\n",
    "99, f5cf5ee71f2b8ad8d11463b3688859e69802027210b7c56d2183a94a2c2fa5c2\n",
    "e7, 4325ca279fe97019a7edc25763388ab8ec2cb199b89baf106fd031d3ec56349d\n",
    "22, 86ac52a8c1c8667e8c4a679ad23b15482b35343aa87bf7491ec5ab7c28721920\"\"\".split('\\n')\n",
    "\n",
    "salt = [s.split(',')[0].strip() for s in salt_and_sha3]\n",
    "sha3 = [s.split(',')[1].strip() for s in salt_and_sha3]\n",
    "\n",
    "found3 = dict()"
   ]
  },
  {
   "cell_type": "code",
   "execution_count": null,
   "metadata": {},
   "outputs": [],
   "source": [
    "for s in tqdm(set(salt)):\n",
    "    num_pwd = salt.count(s)\n",
    "    num_fnd = [s for s, h in zip(salt, sha3) if h in found3].count(s)\n",
    "    if num_fnd == num_pwd:\n",
    "        continue\n",
    "    for p in passwords_2:\n",
    "        #h = H(p.encode()+binascii.unhexlify(s))\n",
    "        h = H(p+s)\n",
    "        if h in sha3 and not h in found3:\n",
    "            found3[h] = p\n",
    "            print(h, p)\n",
    "            num_fnd += 1\n",
    "            if num_fnd == num_pwd:\n",
    "                break\n",
    "    else:\n",
    "        print(f'NO PWD FOUND FOR {s}')\n",
    "        continue  # only executed if the inner loop did NOT break\n",
    "    if len(found3) == len(sha3):\n",
    "        break"
   ]
  },
  {
   "cell_type": "code",
   "execution_count": null,
   "metadata": {},
   "outputs": [],
   "source": [
    "with open('solutions/ex2c.txt', 'w') as file:\n",
    "    txt = ','.join([found3[h] for h in sha3])\n",
    "    print(txt)\n",
    "    file.write(txt)"
   ]
  },
  {
   "cell_type": "code",
   "execution_count": null,
   "metadata": {},
   "outputs": [],
   "source": []
  }
 ],
 "metadata": {
  "kernelspec": {
   "display_name": "Python 3",
   "language": "python",
   "name": "python3"
  },
  "language_info": {
   "codemirror_mode": {
    "name": "ipython",
    "version": 3
   },
   "file_extension": ".py",
   "mimetype": "text/x-python",
   "name": "python",
   "nbconvert_exporter": "python",
   "pygments_lexer": "ipython3",
   "version": "3.6.8"
  }
 },
 "nbformat": 4,
 "nbformat_minor": 2
}
