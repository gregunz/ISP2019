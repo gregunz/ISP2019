{
 "cells": [
  {
   "cell_type": "code",
   "execution_count": 33,
   "metadata": {},
   "outputs": [
    {
     "name": "stdout",
     "output_type": "stream",
     "text": [
      "Requirement already satisfied: uncompyle6 in /usr/local/lib/python3.6/site-packages (3.2.6)\n",
      "Requirement already satisfied: spark-parser<1.9.0,>=1.8.7 in /usr/local/lib/python3.6/site-packages (from uncompyle6) (1.8.7)\n",
      "Requirement already satisfied: xdis<3.10.0,>=3.9.0 in /usr/local/lib/python3.6/site-packages (from uncompyle6) (3.9.1)\n",
      "Requirement already satisfied: click in /usr/local/lib/python3.6/site-packages (from spark-parser<1.9.0,>=1.8.7->uncompyle6) (7.0)\n"
     ]
    }
   ],
   "source": [
    "!pip install uncompyle6"
   ]
  },
  {
   "cell_type": "code",
   "execution_count": 9,
   "metadata": {},
   "outputs": [],
   "source": [
    "import requests as r\n",
    "import zlib, base64"
   ]
  },
  {
   "cell_type": "code",
   "execution_count": 94,
   "metadata": {},
   "outputs": [],
   "source": [
    "output1 = !uncompyle6 pop.pyc[0]\n",
    "output2 = !uncompyle6 site.pyc[0]"
   ]
  },
  {
   "cell_type": "code",
   "execution_count": 91,
   "metadata": {},
   "outputs": [],
   "source": [
    "with open('db.py', 'w') as f:\n",
    "    f.write(zlib.decompress(base64.b64decode('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')).decode())"
   ]
  },
  {
   "cell_type": "code",
   "execution_count": 90,
   "metadata": {},
   "outputs": [],
   "source": [
    "with open('site.py', 'w') as f:\n",
    "    f.write(zlib.decompress(base64.b64decode('eJylVm1v2zYQ/q5fwXIYJCGCEmtfhgwElq1OFzQvReyuGIJAYCTaJiKJKkmlUYf9991RkmMlStMiiGNTp+Pdc8+9kD+92W+M3r+R1b6o7kjd2o2qfvFkWSttiTLDyrTbZa3qpuBWeCutSrIquLkl/av1hOwYH6Ks0VpUNuV1PaEDr3KhUyvKGi1HWnxuhLFbj23Zms+FB5uZMxekacVLkaahJ1ekEFUA+GKu13fhG5YceqTWsrIBFSWXBUFrUouccENWUhtLQLMpAQ4NPYwsFvfSBrPQc/pssHU1u/YyVa3kmv37n/dF2g1RNfiiGRiD3ZIXJs5WaxpRTUM0Dp7FvciCVawFz4Mw6raH3q1oDbuiy4v383NQf3u0PPrjaDGfwfrjYn55fnS2XacfPr2d0Wu3ZQ/2DLrJjm6yo5uALpBQKQirKALgtCKdW7JSmrhntBU+0IK6olLNejNoosIhoXvG6qATxSgKwvARQ1bdiop1KkM8114uVmQtbJrfzAL0A78MnrkFc+vIT3Nu+Q03YuZH56oSYBMQgxKRhqAAtrg9faJjsF+JDJAWKuPFRhlLo8HnA1/XI1nP21b2wPE1+CNQgEbpGQM3cbcOUDwUczwsXAy9cuSijVxVOOWOviEa4vAPG3MsJuLMq7IEtvBxHT/Ejq49KEbb6Ar1dlhLetaSSdaSMWvJmDXY8+DkhxhMJhhMJhhMdhlMIIxkyyB5hsKkpzB5icJkisLkGQqd7x0KE+93GAmxVo0VAd0vhTF8LQyNSgFjLMeOezdfQq98uFgsMQhkfNBylLum3uZgGxb0crdEioFORhfz0/mfS4JTJ+otkOPLizNsIMszmw5mCYUtkKd+hMUdFMYcEjTXW45xUCBuMI9hDlE9GoUBHQzHG1sWNDIb9YUdw+TZ4jCst7gSNtvgDMCmdVDZgAImQXlFUQTd6vDhGrnHWYDFRHiVj4S0Qwvw9hj99Nf8ct69Pj15Pyc+3cOHPepT77mItDBNYSfQdQBwavcqIWMHhz/KwVI3IoKxZMCF4wPtCvh9lSVch+OyqgXgr3ghrXxaW31RjXQeV9bseypL5pGj1xXVyNzjioKjycRgOfBl7oc7KXySL5kThqma3vlC8qb5GyHrSRzJpopxROe3u7NvJ0fh4JVRCSjuO2/eN5vrGdjDAiLrjvhRX/hO5kNjPO0ZH0X4qi+cR297KSoArM426zpHaK00o/Oytm33BtkW9zXk/B/VwGGNd4SWbPidIF+FVjgb73jWxuSdgKvXndBE2tjl6IWwos6X+46cB/zqzgsX0hQkNwy2iPwTi41vN6K/IkFr1qoy8kZCXluiIDpA1JIMsvxVVMQq4oiQqiK8gTRoUHs12oHlKcD9ux3MC97Kao31v4HfOI6JUVASEjSJ4W0XTgln3+twuTY9OYcTcklOzpcXT2d+0J0LkONhKIfk76PTj/MFCX42kfuEv9HvmwpPGzLq7IuRg9B7MSDTZBloM3rWn1gGbq1vqLs0DzdooDpNwXCVpnQYW9iu8J9inOK+a8b+5N65x8dowJ3QQzzbdRL0F4atrm6qAG8hzD+I3Z8f4dWe/XoQev8DRT8yhg==')).decode().replace('\\t', '    '))"
   ]
  },
  {
   "cell_type": "code",
   "execution_count": 110,
   "metadata": {},
   "outputs": [],
   "source": [
    "pload = {\n",
    "    'name': 'myname',\n",
    "    'mail': 'mymail',\n",
    "    'phone': 'myphone',\n",
    "    'message': 'mymessage',\n",
    "}"
   ]
  },
  {
   "cell_type": "code",
   "execution_count": 119,
   "metadata": {},
   "outputs": [
    {
     "data": {
      "text/plain": [
       "b'<!DOCTYPE HTML PUBLIC \"-//W3C//DTD HTML 3.2 Final//EN\">\\n<title>400 Bad Request</title>\\n<h1>Bad Request</h1>\\n<p>The browser (or proxy) sent a request that this server could not understand.</p>\\n'"
      ]
     },
     "execution_count": 119,
     "metadata": {},
     "output_type": "execute_result"
    }
   ],
   "source": [
    "r.post('http://172.17.0.1/')."
   ]
  },
  {
   "cell_type": "code",
   "execution_count": 132,
   "metadata": {},
   "outputs": [
    {
     "data": {
      "text/plain": [
       "400"
      ]
     },
     "execution_count": 132,
     "metadata": {},
     "output_type": "execute_result"
    }
   ],
   "source": [
    "resp = r.post('http://172.17.0.1:80/', data=pload)\n",
    "resp.status_code"
   ]
  },
  {
   "cell_type": "code",
   "execution_count": 134,
   "metadata": {},
   "outputs": [],
   "source": [
    "from flask import render_template,request"
   ]
  },
  {
   "cell_type": "code",
   "execution_count": null,
   "metadata": {},
   "outputs": [],
   "source": [
    "render_template()"
   ]
  },
  {
   "cell_type": "code",
   "execution_count": 130,
   "metadata": {},
   "outputs": [
    {
     "name": "stdout",
     "output_type": "stream",
     "text": [
      "<!DOCTYPE HTML PUBLIC \"-//W3C//DTD HTML 3.2 Final//EN\">\n",
      "<title>400 Bad Request</title>\n",
      "<h1>Bad Request</h1>\n",
      "<p>The browser (or proxy) sent a request that this server could not understand.</p>\n",
      "\n"
     ]
    }
   ],
   "source": [
    "print(resp.text)"
   ]
  },
  {
   "cell_type": "code",
   "execution_count": null,
   "metadata": {},
   "outputs": [],
   "source": []
  },
  {
   "cell_type": "code",
   "execution_count": 7,
   "metadata": {},
   "outputs": [
    {
     "ename": "ConnectionError",
     "evalue": "HTTPConnectionPool(host='localhost', port=80): Max retries exceeded with url: / (Caused by NewConnectionError('<urllib3.connection.HTTPConnection object at 0x7fdf1782a358>: Failed to establish a new connection: [Errno 111] Connection refused',))",
     "output_type": "error",
     "traceback": [
      "\u001b[0;31m---------------------------------------------------------------------------\u001b[0m",
      "\u001b[0;31mConnectionRefusedError\u001b[0m                    Traceback (most recent call last)",
      "\u001b[0;32m/usr/local/lib/python3.6/site-packages/urllib3/connection.py\u001b[0m in \u001b[0;36m_new_conn\u001b[0;34m(self)\u001b[0m\n\u001b[1;32m    158\u001b[0m             conn = connection.create_connection(\n\u001b[0;32m--> 159\u001b[0;31m                 (self._dns_host, self.port), self.timeout, **extra_kw)\n\u001b[0m\u001b[1;32m    160\u001b[0m \u001b[0;34m\u001b[0m\u001b[0m\n",
      "\u001b[0;32m/usr/local/lib/python3.6/site-packages/urllib3/util/connection.py\u001b[0m in \u001b[0;36mcreate_connection\u001b[0;34m(address, timeout, source_address, socket_options)\u001b[0m\n\u001b[1;32m     79\u001b[0m     \u001b[0;32mif\u001b[0m \u001b[0merr\u001b[0m \u001b[0;32mis\u001b[0m \u001b[0;32mnot\u001b[0m \u001b[0;32mNone\u001b[0m\u001b[0;34m:\u001b[0m\u001b[0;34m\u001b[0m\u001b[0;34m\u001b[0m\u001b[0m\n\u001b[0;32m---> 80\u001b[0;31m         \u001b[0;32mraise\u001b[0m \u001b[0merr\u001b[0m\u001b[0;34m\u001b[0m\u001b[0;34m\u001b[0m\u001b[0m\n\u001b[0m\u001b[1;32m     81\u001b[0m \u001b[0;34m\u001b[0m\u001b[0m\n",
      "\u001b[0;32m/usr/local/lib/python3.6/site-packages/urllib3/util/connection.py\u001b[0m in \u001b[0;36mcreate_connection\u001b[0;34m(address, timeout, source_address, socket_options)\u001b[0m\n\u001b[1;32m     69\u001b[0m                 \u001b[0msock\u001b[0m\u001b[0;34m.\u001b[0m\u001b[0mbind\u001b[0m\u001b[0;34m(\u001b[0m\u001b[0msource_address\u001b[0m\u001b[0;34m)\u001b[0m\u001b[0;34m\u001b[0m\u001b[0;34m\u001b[0m\u001b[0m\n\u001b[0;32m---> 70\u001b[0;31m             \u001b[0msock\u001b[0m\u001b[0;34m.\u001b[0m\u001b[0mconnect\u001b[0m\u001b[0;34m(\u001b[0m\u001b[0msa\u001b[0m\u001b[0;34m)\u001b[0m\u001b[0;34m\u001b[0m\u001b[0;34m\u001b[0m\u001b[0m\n\u001b[0m\u001b[1;32m     71\u001b[0m             \u001b[0;32mreturn\u001b[0m \u001b[0msock\u001b[0m\u001b[0;34m\u001b[0m\u001b[0;34m\u001b[0m\u001b[0m\n",
      "\u001b[0;31mConnectionRefusedError\u001b[0m: [Errno 111] Connection refused",
      "\nDuring handling of the above exception, another exception occurred:\n",
      "\u001b[0;31mNewConnectionError\u001b[0m                        Traceback (most recent call last)",
      "\u001b[0;32m/usr/local/lib/python3.6/site-packages/urllib3/connectionpool.py\u001b[0m in \u001b[0;36murlopen\u001b[0;34m(self, method, url, body, headers, retries, redirect, assert_same_host, timeout, pool_timeout, release_conn, chunked, body_pos, **response_kw)\u001b[0m\n\u001b[1;32m    599\u001b[0m                                                   \u001b[0mbody\u001b[0m\u001b[0;34m=\u001b[0m\u001b[0mbody\u001b[0m\u001b[0;34m,\u001b[0m \u001b[0mheaders\u001b[0m\u001b[0;34m=\u001b[0m\u001b[0mheaders\u001b[0m\u001b[0;34m,\u001b[0m\u001b[0;34m\u001b[0m\u001b[0;34m\u001b[0m\u001b[0m\n\u001b[0;32m--> 600\u001b[0;31m                                                   chunked=chunked)\n\u001b[0m\u001b[1;32m    601\u001b[0m \u001b[0;34m\u001b[0m\u001b[0m\n",
      "\u001b[0;32m/usr/local/lib/python3.6/site-packages/urllib3/connectionpool.py\u001b[0m in \u001b[0;36m_make_request\u001b[0;34m(self, conn, method, url, timeout, chunked, **httplib_request_kw)\u001b[0m\n\u001b[1;32m    353\u001b[0m         \u001b[0;32melse\u001b[0m\u001b[0;34m:\u001b[0m\u001b[0;34m\u001b[0m\u001b[0;34m\u001b[0m\u001b[0m\n\u001b[0;32m--> 354\u001b[0;31m             \u001b[0mconn\u001b[0m\u001b[0;34m.\u001b[0m\u001b[0mrequest\u001b[0m\u001b[0;34m(\u001b[0m\u001b[0mmethod\u001b[0m\u001b[0;34m,\u001b[0m \u001b[0murl\u001b[0m\u001b[0;34m,\u001b[0m \u001b[0;34m**\u001b[0m\u001b[0mhttplib_request_kw\u001b[0m\u001b[0;34m)\u001b[0m\u001b[0;34m\u001b[0m\u001b[0;34m\u001b[0m\u001b[0m\n\u001b[0m\u001b[1;32m    355\u001b[0m \u001b[0;34m\u001b[0m\u001b[0m\n",
      "\u001b[0;32m/usr/local/lib/python3.6/http/client.py\u001b[0m in \u001b[0;36mrequest\u001b[0;34m(self, method, url, body, headers, encode_chunked)\u001b[0m\n\u001b[1;32m   1238\u001b[0m         \u001b[0;34m\"\"\"Send a complete request to the server.\"\"\"\u001b[0m\u001b[0;34m\u001b[0m\u001b[0;34m\u001b[0m\u001b[0m\n\u001b[0;32m-> 1239\u001b[0;31m         \u001b[0mself\u001b[0m\u001b[0;34m.\u001b[0m\u001b[0m_send_request\u001b[0m\u001b[0;34m(\u001b[0m\u001b[0mmethod\u001b[0m\u001b[0;34m,\u001b[0m \u001b[0murl\u001b[0m\u001b[0;34m,\u001b[0m \u001b[0mbody\u001b[0m\u001b[0;34m,\u001b[0m \u001b[0mheaders\u001b[0m\u001b[0;34m,\u001b[0m \u001b[0mencode_chunked\u001b[0m\u001b[0;34m)\u001b[0m\u001b[0;34m\u001b[0m\u001b[0;34m\u001b[0m\u001b[0m\n\u001b[0m\u001b[1;32m   1240\u001b[0m \u001b[0;34m\u001b[0m\u001b[0m\n",
      "\u001b[0;32m/usr/local/lib/python3.6/http/client.py\u001b[0m in \u001b[0;36m_send_request\u001b[0;34m(self, method, url, body, headers, encode_chunked)\u001b[0m\n\u001b[1;32m   1284\u001b[0m             \u001b[0mbody\u001b[0m \u001b[0;34m=\u001b[0m \u001b[0m_encode\u001b[0m\u001b[0;34m(\u001b[0m\u001b[0mbody\u001b[0m\u001b[0;34m,\u001b[0m \u001b[0;34m'body'\u001b[0m\u001b[0;34m)\u001b[0m\u001b[0;34m\u001b[0m\u001b[0;34m\u001b[0m\u001b[0m\n\u001b[0;32m-> 1285\u001b[0;31m         \u001b[0mself\u001b[0m\u001b[0;34m.\u001b[0m\u001b[0mendheaders\u001b[0m\u001b[0;34m(\u001b[0m\u001b[0mbody\u001b[0m\u001b[0;34m,\u001b[0m \u001b[0mencode_chunked\u001b[0m\u001b[0;34m=\u001b[0m\u001b[0mencode_chunked\u001b[0m\u001b[0;34m)\u001b[0m\u001b[0;34m\u001b[0m\u001b[0;34m\u001b[0m\u001b[0m\n\u001b[0m\u001b[1;32m   1286\u001b[0m \u001b[0;34m\u001b[0m\u001b[0m\n",
      "\u001b[0;32m/usr/local/lib/python3.6/http/client.py\u001b[0m in \u001b[0;36mendheaders\u001b[0;34m(self, message_body, encode_chunked)\u001b[0m\n\u001b[1;32m   1233\u001b[0m             \u001b[0;32mraise\u001b[0m \u001b[0mCannotSendHeader\u001b[0m\u001b[0;34m(\u001b[0m\u001b[0;34m)\u001b[0m\u001b[0;34m\u001b[0m\u001b[0;34m\u001b[0m\u001b[0m\n\u001b[0;32m-> 1234\u001b[0;31m         \u001b[0mself\u001b[0m\u001b[0;34m.\u001b[0m\u001b[0m_send_output\u001b[0m\u001b[0;34m(\u001b[0m\u001b[0mmessage_body\u001b[0m\u001b[0;34m,\u001b[0m \u001b[0mencode_chunked\u001b[0m\u001b[0;34m=\u001b[0m\u001b[0mencode_chunked\u001b[0m\u001b[0;34m)\u001b[0m\u001b[0;34m\u001b[0m\u001b[0;34m\u001b[0m\u001b[0m\n\u001b[0m\u001b[1;32m   1235\u001b[0m \u001b[0;34m\u001b[0m\u001b[0m\n",
      "\u001b[0;32m/usr/local/lib/python3.6/http/client.py\u001b[0m in \u001b[0;36m_send_output\u001b[0;34m(self, message_body, encode_chunked)\u001b[0m\n\u001b[1;32m   1025\u001b[0m         \u001b[0;32mdel\u001b[0m \u001b[0mself\u001b[0m\u001b[0;34m.\u001b[0m\u001b[0m_buffer\u001b[0m\u001b[0;34m[\u001b[0m\u001b[0;34m:\u001b[0m\u001b[0;34m]\u001b[0m\u001b[0;34m\u001b[0m\u001b[0;34m\u001b[0m\u001b[0m\n\u001b[0;32m-> 1026\u001b[0;31m         \u001b[0mself\u001b[0m\u001b[0;34m.\u001b[0m\u001b[0msend\u001b[0m\u001b[0;34m(\u001b[0m\u001b[0mmsg\u001b[0m\u001b[0;34m)\u001b[0m\u001b[0;34m\u001b[0m\u001b[0;34m\u001b[0m\u001b[0m\n\u001b[0m\u001b[1;32m   1027\u001b[0m \u001b[0;34m\u001b[0m\u001b[0m\n",
      "\u001b[0;32m/usr/local/lib/python3.6/http/client.py\u001b[0m in \u001b[0;36msend\u001b[0;34m(self, data)\u001b[0m\n\u001b[1;32m    963\u001b[0m             \u001b[0;32mif\u001b[0m \u001b[0mself\u001b[0m\u001b[0;34m.\u001b[0m\u001b[0mauto_open\u001b[0m\u001b[0;34m:\u001b[0m\u001b[0;34m\u001b[0m\u001b[0;34m\u001b[0m\u001b[0m\n\u001b[0;32m--> 964\u001b[0;31m                 \u001b[0mself\u001b[0m\u001b[0;34m.\u001b[0m\u001b[0mconnect\u001b[0m\u001b[0;34m(\u001b[0m\u001b[0;34m)\u001b[0m\u001b[0;34m\u001b[0m\u001b[0;34m\u001b[0m\u001b[0m\n\u001b[0m\u001b[1;32m    965\u001b[0m             \u001b[0;32melse\u001b[0m\u001b[0;34m:\u001b[0m\u001b[0;34m\u001b[0m\u001b[0;34m\u001b[0m\u001b[0m\n",
      "\u001b[0;32m/usr/local/lib/python3.6/site-packages/urllib3/connection.py\u001b[0m in \u001b[0;36mconnect\u001b[0;34m(self)\u001b[0m\n\u001b[1;32m    180\u001b[0m     \u001b[0;32mdef\u001b[0m \u001b[0mconnect\u001b[0m\u001b[0;34m(\u001b[0m\u001b[0mself\u001b[0m\u001b[0;34m)\u001b[0m\u001b[0;34m:\u001b[0m\u001b[0;34m\u001b[0m\u001b[0;34m\u001b[0m\u001b[0m\n\u001b[0;32m--> 181\u001b[0;31m         \u001b[0mconn\u001b[0m \u001b[0;34m=\u001b[0m \u001b[0mself\u001b[0m\u001b[0;34m.\u001b[0m\u001b[0m_new_conn\u001b[0m\u001b[0;34m(\u001b[0m\u001b[0;34m)\u001b[0m\u001b[0;34m\u001b[0m\u001b[0;34m\u001b[0m\u001b[0m\n\u001b[0m\u001b[1;32m    182\u001b[0m         \u001b[0mself\u001b[0m\u001b[0;34m.\u001b[0m\u001b[0m_prepare_conn\u001b[0m\u001b[0;34m(\u001b[0m\u001b[0mconn\u001b[0m\u001b[0;34m)\u001b[0m\u001b[0;34m\u001b[0m\u001b[0;34m\u001b[0m\u001b[0m\n",
      "\u001b[0;32m/usr/local/lib/python3.6/site-packages/urllib3/connection.py\u001b[0m in \u001b[0;36m_new_conn\u001b[0;34m(self)\u001b[0m\n\u001b[1;32m    167\u001b[0m             raise NewConnectionError(\n\u001b[0;32m--> 168\u001b[0;31m                 self, \"Failed to establish a new connection: %s\" % e)\n\u001b[0m\u001b[1;32m    169\u001b[0m \u001b[0;34m\u001b[0m\u001b[0m\n",
      "\u001b[0;31mNewConnectionError\u001b[0m: <urllib3.connection.HTTPConnection object at 0x7fdf1782a358>: Failed to establish a new connection: [Errno 111] Connection refused",
      "\nDuring handling of the above exception, another exception occurred:\n",
      "\u001b[0;31mMaxRetryError\u001b[0m                             Traceback (most recent call last)",
      "\u001b[0;32m/usr/local/lib/python3.6/site-packages/requests/adapters.py\u001b[0m in \u001b[0;36msend\u001b[0;34m(self, request, stream, timeout, verify, cert, proxies)\u001b[0m\n\u001b[1;32m    448\u001b[0m                     \u001b[0mretries\u001b[0m\u001b[0;34m=\u001b[0m\u001b[0mself\u001b[0m\u001b[0;34m.\u001b[0m\u001b[0mmax_retries\u001b[0m\u001b[0;34m,\u001b[0m\u001b[0;34m\u001b[0m\u001b[0;34m\u001b[0m\u001b[0m\n\u001b[0;32m--> 449\u001b[0;31m                     \u001b[0mtimeout\u001b[0m\u001b[0;34m=\u001b[0m\u001b[0mtimeout\u001b[0m\u001b[0;34m\u001b[0m\u001b[0;34m\u001b[0m\u001b[0m\n\u001b[0m\u001b[1;32m    450\u001b[0m                 )\n",
      "\u001b[0;32m/usr/local/lib/python3.6/site-packages/urllib3/connectionpool.py\u001b[0m in \u001b[0;36murlopen\u001b[0;34m(self, method, url, body, headers, retries, redirect, assert_same_host, timeout, pool_timeout, release_conn, chunked, body_pos, **response_kw)\u001b[0m\n\u001b[1;32m    637\u001b[0m             retries = retries.increment(method, url, error=e, _pool=self,\n\u001b[0;32m--> 638\u001b[0;31m                                         _stacktrace=sys.exc_info()[2])\n\u001b[0m\u001b[1;32m    639\u001b[0m             \u001b[0mretries\u001b[0m\u001b[0;34m.\u001b[0m\u001b[0msleep\u001b[0m\u001b[0;34m(\u001b[0m\u001b[0;34m)\u001b[0m\u001b[0;34m\u001b[0m\u001b[0;34m\u001b[0m\u001b[0m\n",
      "\u001b[0;32m/usr/local/lib/python3.6/site-packages/urllib3/util/retry.py\u001b[0m in \u001b[0;36mincrement\u001b[0;34m(self, method, url, response, error, _pool, _stacktrace)\u001b[0m\n\u001b[1;32m    397\u001b[0m         \u001b[0;32mif\u001b[0m \u001b[0mnew_retry\u001b[0m\u001b[0;34m.\u001b[0m\u001b[0mis_exhausted\u001b[0m\u001b[0;34m(\u001b[0m\u001b[0;34m)\u001b[0m\u001b[0;34m:\u001b[0m\u001b[0;34m\u001b[0m\u001b[0;34m\u001b[0m\u001b[0m\n\u001b[0;32m--> 398\u001b[0;31m             \u001b[0;32mraise\u001b[0m \u001b[0mMaxRetryError\u001b[0m\u001b[0;34m(\u001b[0m\u001b[0m_pool\u001b[0m\u001b[0;34m,\u001b[0m \u001b[0murl\u001b[0m\u001b[0;34m,\u001b[0m \u001b[0merror\u001b[0m \u001b[0;32mor\u001b[0m \u001b[0mResponseError\u001b[0m\u001b[0;34m(\u001b[0m\u001b[0mcause\u001b[0m\u001b[0;34m)\u001b[0m\u001b[0;34m)\u001b[0m\u001b[0;34m\u001b[0m\u001b[0;34m\u001b[0m\u001b[0m\n\u001b[0m\u001b[1;32m    399\u001b[0m \u001b[0;34m\u001b[0m\u001b[0m\n",
      "\u001b[0;31mMaxRetryError\u001b[0m: HTTPConnectionPool(host='localhost', port=80): Max retries exceeded with url: / (Caused by NewConnectionError('<urllib3.connection.HTTPConnection object at 0x7fdf1782a358>: Failed to establish a new connection: [Errno 111] Connection refused',))",
      "\nDuring handling of the above exception, another exception occurred:\n",
      "\u001b[0;31mConnectionError\u001b[0m                           Traceback (most recent call last)",
      "\u001b[0;32m<ipython-input-7-53ba30410f4c>\u001b[0m in \u001b[0;36m<module>\u001b[0;34m\u001b[0m\n\u001b[0;32m----> 1\u001b[0;31m \u001b[0mr\u001b[0m\u001b[0;34m.\u001b[0m\u001b[0mget\u001b[0m\u001b[0;34m(\u001b[0m\u001b[0;34m'http://localhost/'\u001b[0m\u001b[0;34m)\u001b[0m\u001b[0;34m\u001b[0m\u001b[0;34m\u001b[0m\u001b[0m\n\u001b[0m",
      "\u001b[0;32m/usr/local/lib/python3.6/site-packages/requests/api.py\u001b[0m in \u001b[0;36mget\u001b[0;34m(url, params, **kwargs)\u001b[0m\n\u001b[1;32m     73\u001b[0m \u001b[0;34m\u001b[0m\u001b[0m\n\u001b[1;32m     74\u001b[0m     \u001b[0mkwargs\u001b[0m\u001b[0;34m.\u001b[0m\u001b[0msetdefault\u001b[0m\u001b[0;34m(\u001b[0m\u001b[0;34m'allow_redirects'\u001b[0m\u001b[0;34m,\u001b[0m \u001b[0;32mTrue\u001b[0m\u001b[0;34m)\u001b[0m\u001b[0;34m\u001b[0m\u001b[0;34m\u001b[0m\u001b[0m\n\u001b[0;32m---> 75\u001b[0;31m     \u001b[0;32mreturn\u001b[0m \u001b[0mrequest\u001b[0m\u001b[0;34m(\u001b[0m\u001b[0;34m'get'\u001b[0m\u001b[0;34m,\u001b[0m \u001b[0murl\u001b[0m\u001b[0;34m,\u001b[0m \u001b[0mparams\u001b[0m\u001b[0;34m=\u001b[0m\u001b[0mparams\u001b[0m\u001b[0;34m,\u001b[0m \u001b[0;34m**\u001b[0m\u001b[0mkwargs\u001b[0m\u001b[0;34m)\u001b[0m\u001b[0;34m\u001b[0m\u001b[0;34m\u001b[0m\u001b[0m\n\u001b[0m\u001b[1;32m     76\u001b[0m \u001b[0;34m\u001b[0m\u001b[0m\n\u001b[1;32m     77\u001b[0m \u001b[0;34m\u001b[0m\u001b[0m\n",
      "\u001b[0;32m/usr/local/lib/python3.6/site-packages/requests/api.py\u001b[0m in \u001b[0;36mrequest\u001b[0;34m(method, url, **kwargs)\u001b[0m\n\u001b[1;32m     58\u001b[0m     \u001b[0;31m# cases, and look like a memory leak in others.\u001b[0m\u001b[0;34m\u001b[0m\u001b[0;34m\u001b[0m\u001b[0;34m\u001b[0m\u001b[0m\n\u001b[1;32m     59\u001b[0m     \u001b[0;32mwith\u001b[0m \u001b[0msessions\u001b[0m\u001b[0;34m.\u001b[0m\u001b[0mSession\u001b[0m\u001b[0;34m(\u001b[0m\u001b[0;34m)\u001b[0m \u001b[0;32mas\u001b[0m \u001b[0msession\u001b[0m\u001b[0;34m:\u001b[0m\u001b[0;34m\u001b[0m\u001b[0;34m\u001b[0m\u001b[0m\n\u001b[0;32m---> 60\u001b[0;31m         \u001b[0;32mreturn\u001b[0m \u001b[0msession\u001b[0m\u001b[0;34m.\u001b[0m\u001b[0mrequest\u001b[0m\u001b[0;34m(\u001b[0m\u001b[0mmethod\u001b[0m\u001b[0;34m=\u001b[0m\u001b[0mmethod\u001b[0m\u001b[0;34m,\u001b[0m \u001b[0murl\u001b[0m\u001b[0;34m=\u001b[0m\u001b[0murl\u001b[0m\u001b[0;34m,\u001b[0m \u001b[0;34m**\u001b[0m\u001b[0mkwargs\u001b[0m\u001b[0;34m)\u001b[0m\u001b[0;34m\u001b[0m\u001b[0;34m\u001b[0m\u001b[0m\n\u001b[0m\u001b[1;32m     61\u001b[0m \u001b[0;34m\u001b[0m\u001b[0m\n\u001b[1;32m     62\u001b[0m \u001b[0;34m\u001b[0m\u001b[0m\n",
      "\u001b[0;32m/usr/local/lib/python3.6/site-packages/requests/sessions.py\u001b[0m in \u001b[0;36mrequest\u001b[0;34m(self, method, url, params, data, headers, cookies, files, auth, timeout, allow_redirects, proxies, hooks, stream, verify, cert, json)\u001b[0m\n\u001b[1;32m    531\u001b[0m         }\n\u001b[1;32m    532\u001b[0m         \u001b[0msend_kwargs\u001b[0m\u001b[0;34m.\u001b[0m\u001b[0mupdate\u001b[0m\u001b[0;34m(\u001b[0m\u001b[0msettings\u001b[0m\u001b[0;34m)\u001b[0m\u001b[0;34m\u001b[0m\u001b[0;34m\u001b[0m\u001b[0m\n\u001b[0;32m--> 533\u001b[0;31m         \u001b[0mresp\u001b[0m \u001b[0;34m=\u001b[0m \u001b[0mself\u001b[0m\u001b[0;34m.\u001b[0m\u001b[0msend\u001b[0m\u001b[0;34m(\u001b[0m\u001b[0mprep\u001b[0m\u001b[0;34m,\u001b[0m \u001b[0;34m**\u001b[0m\u001b[0msend_kwargs\u001b[0m\u001b[0;34m)\u001b[0m\u001b[0;34m\u001b[0m\u001b[0;34m\u001b[0m\u001b[0m\n\u001b[0m\u001b[1;32m    534\u001b[0m \u001b[0;34m\u001b[0m\u001b[0m\n\u001b[1;32m    535\u001b[0m         \u001b[0;32mreturn\u001b[0m \u001b[0mresp\u001b[0m\u001b[0;34m\u001b[0m\u001b[0;34m\u001b[0m\u001b[0m\n",
      "\u001b[0;32m/usr/local/lib/python3.6/site-packages/requests/sessions.py\u001b[0m in \u001b[0;36msend\u001b[0;34m(self, request, **kwargs)\u001b[0m\n\u001b[1;32m    644\u001b[0m \u001b[0;34m\u001b[0m\u001b[0m\n\u001b[1;32m    645\u001b[0m         \u001b[0;31m# Send the request\u001b[0m\u001b[0;34m\u001b[0m\u001b[0;34m\u001b[0m\u001b[0;34m\u001b[0m\u001b[0m\n\u001b[0;32m--> 646\u001b[0;31m         \u001b[0mr\u001b[0m \u001b[0;34m=\u001b[0m \u001b[0madapter\u001b[0m\u001b[0;34m.\u001b[0m\u001b[0msend\u001b[0m\u001b[0;34m(\u001b[0m\u001b[0mrequest\u001b[0m\u001b[0;34m,\u001b[0m \u001b[0;34m**\u001b[0m\u001b[0mkwargs\u001b[0m\u001b[0;34m)\u001b[0m\u001b[0;34m\u001b[0m\u001b[0;34m\u001b[0m\u001b[0m\n\u001b[0m\u001b[1;32m    647\u001b[0m \u001b[0;34m\u001b[0m\u001b[0m\n\u001b[1;32m    648\u001b[0m         \u001b[0;31m# Total elapsed time of the request (approximately)\u001b[0m\u001b[0;34m\u001b[0m\u001b[0;34m\u001b[0m\u001b[0;34m\u001b[0m\u001b[0m\n",
      "\u001b[0;32m/usr/local/lib/python3.6/site-packages/requests/adapters.py\u001b[0m in \u001b[0;36msend\u001b[0;34m(self, request, stream, timeout, verify, cert, proxies)\u001b[0m\n\u001b[1;32m    514\u001b[0m                 \u001b[0;32mraise\u001b[0m \u001b[0mSSLError\u001b[0m\u001b[0;34m(\u001b[0m\u001b[0me\u001b[0m\u001b[0;34m,\u001b[0m \u001b[0mrequest\u001b[0m\u001b[0;34m=\u001b[0m\u001b[0mrequest\u001b[0m\u001b[0;34m)\u001b[0m\u001b[0;34m\u001b[0m\u001b[0;34m\u001b[0m\u001b[0m\n\u001b[1;32m    515\u001b[0m \u001b[0;34m\u001b[0m\u001b[0m\n\u001b[0;32m--> 516\u001b[0;31m             \u001b[0;32mraise\u001b[0m \u001b[0mConnectionError\u001b[0m\u001b[0;34m(\u001b[0m\u001b[0me\u001b[0m\u001b[0;34m,\u001b[0m \u001b[0mrequest\u001b[0m\u001b[0;34m=\u001b[0m\u001b[0mrequest\u001b[0m\u001b[0;34m)\u001b[0m\u001b[0;34m\u001b[0m\u001b[0;34m\u001b[0m\u001b[0m\n\u001b[0m\u001b[1;32m    517\u001b[0m \u001b[0;34m\u001b[0m\u001b[0m\n\u001b[1;32m    518\u001b[0m         \u001b[0;32mexcept\u001b[0m \u001b[0mClosedPoolError\u001b[0m \u001b[0;32mas\u001b[0m \u001b[0me\u001b[0m\u001b[0;34m:\u001b[0m\u001b[0;34m\u001b[0m\u001b[0;34m\u001b[0m\u001b[0m\n",
      "\u001b[0;31mConnectionError\u001b[0m: HTTPConnectionPool(host='localhost', port=80): Max retries exceeded with url: / (Caused by NewConnectionError('<urllib3.connection.HTTPConnection object at 0x7fdf1782a358>: Failed to establish a new connection: [Errno 111] Connection refused',))"
     ]
    }
   ],
   "source": [
    "r.get('http://localhost/')"
   ]
  },
  {
   "cell_type": "code",
   "execution_count": null,
   "metadata": {},
   "outputs": [],
   "source": [
    "/?name=myname&mail=mymail&phone=myphone&message=mymessage"
   ]
  }
 ],
 "metadata": {
  "kernelspec": {
   "display_name": "Python 3",
   "language": "python",
   "name": "python3"
  },
  "language_info": {
   "codemirror_mode": {
    "name": "ipython",
    "version": 3
   },
   "file_extension": ".py",
   "mimetype": "text/x-python",
   "name": "python",
   "nbconvert_exporter": "python",
   "pygments_lexer": "ipython3",
   "version": "3.6.8"
  }
 },
 "nbformat": 4,
 "nbformat_minor": 2
}
