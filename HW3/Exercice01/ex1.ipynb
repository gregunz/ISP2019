{
 "cells": [
  {
   "cell_type": "code",
   "execution_count": 5,
   "metadata": {},
   "outputs": [],
   "source": [
    "import pandas as pd\n",
    "import numpy as np"
   ]
  },
  {
   "cell_type": "code",
   "execution_count": 179,
   "metadata": {},
   "outputs": [],
   "source": [
    "mail_greg = 'gregoire.clement@epfl.ch'"
   ]
  },
  {
   "cell_type": "code",
   "execution_count": 180,
   "metadata": {},
   "outputs": [],
   "source": [
    "column_names = ['mail', 'movie', 'date', 'rating']\n",
    "\n",
    "crypt_cols = column_names[:2]\n",
    "clear_cols = column_names[2:]"
   ]
  },
  {
   "cell_type": "code",
   "execution_count": 352,
   "metadata": {},
   "outputs": [],
   "source": [
    "fnames_clear = [f'imdb-{i+1}.csv' for i in range(3)]\n",
    "\n",
    "data_clear = []  \n",
    "\n",
    "for fname in fnames_clear:\n",
    "    with open(f'{fname[:-4]}.csv', 'r') as file:\n",
    "        lines_cleaned = []\n",
    "        lines = file.readlines()\n",
    "        for i, line in enumerate(lines):\n",
    "            plus = 1 if len(lines) == i+1 else 0\n",
    "            line_cleaned = line[:-4+plus]\\\n",
    "                .replace('\", ', '\", \"')\\\n",
    "                .replace('ch, ', 'ch\", ')\\\n",
    "                .replace('com, ', 'com\", ')\\\n",
    "                + '\", \"' + line[-2+plus]\n",
    "            line_cleaned = line_cleaned.split('\", \"')\n",
    "            assert len(line_cleaned) == 4\n",
    "            lines_cleaned.append(line_cleaned)\n",
    "    df = pd.DataFrame(lines_cleaned, columns=column_names)\n",
    "    data_clear.append(df)\n"
   ]
  },
  {
   "cell_type": "code",
   "execution_count": 373,
   "metadata": {},
   "outputs": [],
   "source": [
    "data_crypt = [pd.read_csv(f'com402-{i+1}.csv', names=column_names) for i in range(3)]\n",
    "\n",
    "def clean(df):\n",
    "    for c in column_names:\n",
    "        df[c] = df[c].apply(lambda x: str(x).strip().strip('\"'))\n",
    "    df['rating'] = df['rating'].apply(lambda x: int(x))\n",
    "    df['date'] = df['date'].apply(lambda x: int(pd.to_datetime(x, format='%d/%m/%y').timestamp())//(60*60*24))\n",
    "    return df\n",
    "    \n",
    "for i in range(3):\n",
    "    data_crypt[i] = clean(data_crypt[i])\n",
    "    data_clear[i] = clean(data_clear[i])"
   ]
  },
  {
   "cell_type": "code",
   "execution_count": 374,
   "metadata": {},
   "outputs": [
    {
     "data": {
      "text/plain": [
       "({1, 2, 3, 4, 5}, {1, 2, 3, 4, 5})"
      ]
     },
     "execution_count": 374,
     "metadata": {},
     "output_type": "execute_result"
    }
   ],
   "source": [
    "set(data_crypt[0]['rating']), set(data_clear[0]['rating'])"
   ]
  },
  {
   "cell_type": "code",
   "execution_count": 375,
   "metadata": {},
   "outputs": [
    {
     "data": {
      "text/html": [
       "<div>\n",
       "<style scoped>\n",
       "    .dataframe tbody tr th:only-of-type {\n",
       "        vertical-align: middle;\n",
       "    }\n",
       "\n",
       "    .dataframe tbody tr th {\n",
       "        vertical-align: top;\n",
       "    }\n",
       "\n",
       "    .dataframe thead th {\n",
       "        text-align: right;\n",
       "    }\n",
       "</style>\n",
       "<table border=\"1\" class=\"dataframe\">\n",
       "  <thead>\n",
       "    <tr style=\"text-align: right;\">\n",
       "      <th></th>\n",
       "      <th>mail</th>\n",
       "      <th>movie</th>\n",
       "      <th>date</th>\n",
       "      <th>rating</th>\n",
       "    </tr>\n",
       "  </thead>\n",
       "  <tbody>\n",
       "    <tr>\n",
       "      <th>0</th>\n",
       "      <td>baacb66ef94dd3ee99e1c6d2c09162a91fedb3728d3d88...</td>\n",
       "      <td>44ff990dae6198226ec564d0f929d74c68941556925e51...</td>\n",
       "      <td>11688</td>\n",
       "      <td>3</td>\n",
       "    </tr>\n",
       "    <tr>\n",
       "      <th>1</th>\n",
       "      <td>d573cb5bb85f9e804319e73365cdace936e0068763ccfa...</td>\n",
       "      <td>77759aba50c2cd39076b2e6f1afd040875e64192e80588...</td>\n",
       "      <td>11688</td>\n",
       "      <td>2</td>\n",
       "    </tr>\n",
       "    <tr>\n",
       "      <th>2</th>\n",
       "      <td>814a6e672abe1cf98d0683c011fd5215d3eeb73c983a8c...</td>\n",
       "      <td>3e0255de2b47d08b88dfb2b31034d7a2d0c276ed1ff0dd...</td>\n",
       "      <td>13514</td>\n",
       "      <td>2</td>\n",
       "    </tr>\n",
       "    <tr>\n",
       "      <th>3</th>\n",
       "      <td>328d393a6d782839d3845786684a9d6b750e6d1fd24842...</td>\n",
       "      <td>928fa3ed8d0d3de5e10f0253f295c544307a5f29fa4429...</td>\n",
       "      <td>14610</td>\n",
       "      <td>4</td>\n",
       "    </tr>\n",
       "    <tr>\n",
       "      <th>4</th>\n",
       "      <td>112981ec2c0db94251d9cdca1c59a90ce5e369a78b1249...</td>\n",
       "      <td>73a4e2545a68c493e65e9a49808a950573ed6225975509...</td>\n",
       "      <td>11719</td>\n",
       "      <td>5</td>\n",
       "    </tr>\n",
       "  </tbody>\n",
       "</table>\n",
       "</div>"
      ],
      "text/plain": [
       "                                                mail  \\\n",
       "0  baacb66ef94dd3ee99e1c6d2c09162a91fedb3728d3d88...   \n",
       "1  d573cb5bb85f9e804319e73365cdace936e0068763ccfa...   \n",
       "2  814a6e672abe1cf98d0683c011fd5215d3eeb73c983a8c...   \n",
       "3  328d393a6d782839d3845786684a9d6b750e6d1fd24842...   \n",
       "4  112981ec2c0db94251d9cdca1c59a90ce5e369a78b1249...   \n",
       "\n",
       "                                               movie   date  rating  \n",
       "0  44ff990dae6198226ec564d0f929d74c68941556925e51...  11688       3  \n",
       "1  77759aba50c2cd39076b2e6f1afd040875e64192e80588...  11688       2  \n",
       "2  3e0255de2b47d08b88dfb2b31034d7a2d0c276ed1ff0dd...  13514       2  \n",
       "3  928fa3ed8d0d3de5e10f0253f295c544307a5f29fa4429...  14610       4  \n",
       "4  73a4e2545a68c493e65e9a49808a950573ed6225975509...  11719       5  "
      ]
     },
     "execution_count": 375,
     "metadata": {},
     "output_type": "execute_result"
    }
   ],
   "source": [
    "data_crypt[0].head()"
   ]
  },
  {
   "cell_type": "markdown",
   "metadata": {},
   "source": [
    "# Part 1"
   ]
  },
  {
   "cell_type": "code",
   "execution_count": 376,
   "metadata": {},
   "outputs": [
    {
     "data": {
      "text/plain": [
       "{1, 2, 3, 4, 5}"
      ]
     },
     "execution_count": 376,
     "metadata": {},
     "output_type": "execute_result"
    }
   ],
   "source": [
    "set(data_crypt[0]['rating'])"
   ]
  },
  {
   "cell_type": "code",
   "execution_count": 377,
   "metadata": {},
   "outputs": [
    {
     "data": {
      "text/plain": [
       "[[15928, 3], [14986, 1], [16598, 1], [11132, 4], [13116, 3]]"
      ]
     },
     "execution_count": 377,
     "metadata": {},
     "output_type": "execute_result"
    }
   ],
   "source": [
    "my_ratings_1 = data_clear[0].set_index('mail').loc[mail_greg][clear_cols].values.tolist()\n",
    "my_ratings_1"
   ]
  },
  {
   "cell_type": "code",
   "execution_count": 378,
   "metadata": {},
   "outputs": [
    {
     "data": {
      "text/plain": [
       "[15928, 3]"
      ]
     },
     "execution_count": 378,
     "metadata": {},
     "output_type": "execute_result"
    }
   ],
   "source": [
    "my_ratings_1[0]"
   ]
  },
  {
   "cell_type": "code",
   "execution_count": 379,
   "metadata": {},
   "outputs": [
    {
     "data": {
      "text/html": [
       "<div>\n",
       "<style scoped>\n",
       "    .dataframe tbody tr th:only-of-type {\n",
       "        vertical-align: middle;\n",
       "    }\n",
       "\n",
       "    .dataframe tbody tr th {\n",
       "        vertical-align: top;\n",
       "    }\n",
       "\n",
       "    .dataframe thead th {\n",
       "        text-align: right;\n",
       "    }\n",
       "</style>\n",
       "<table border=\"1\" class=\"dataframe\">\n",
       "  <thead>\n",
       "    <tr style=\"text-align: right;\">\n",
       "      <th></th>\n",
       "      <th></th>\n",
       "      <th>mail</th>\n",
       "      <th>movie</th>\n",
       "    </tr>\n",
       "    <tr>\n",
       "      <th>date</th>\n",
       "      <th>rating</th>\n",
       "      <th></th>\n",
       "      <th></th>\n",
       "    </tr>\n",
       "  </thead>\n",
       "  <tbody>\n",
       "    <tr>\n",
       "      <th>15928</th>\n",
       "      <th>3</th>\n",
       "      <td>gregoire.clement@epfl.ch</td>\n",
       "      <td>Goodfellas</td>\n",
       "    </tr>\n",
       "  </tbody>\n",
       "</table>\n",
       "</div>"
      ],
      "text/plain": [
       "                                  mail       movie\n",
       "date  rating                                      \n",
       "15928 3       gregoire.clement@epfl.ch  Goodfellas"
      ]
     },
     "execution_count": 379,
     "metadata": {},
     "output_type": "execute_result"
    }
   ],
   "source": [
    "data_clear[0].set_index(clear_cols).loc[my_ratings_1[0]]"
   ]
  },
  {
   "cell_type": "code",
   "execution_count": 380,
   "metadata": {},
   "outputs": [
    {
     "data": {
      "text/html": [
       "<div>\n",
       "<style scoped>\n",
       "    .dataframe tbody tr th:only-of-type {\n",
       "        vertical-align: middle;\n",
       "    }\n",
       "\n",
       "    .dataframe tbody tr th {\n",
       "        vertical-align: top;\n",
       "    }\n",
       "\n",
       "    .dataframe thead th {\n",
       "        text-align: right;\n",
       "    }\n",
       "</style>\n",
       "<table border=\"1\" class=\"dataframe\">\n",
       "  <thead>\n",
       "    <tr style=\"text-align: right;\">\n",
       "      <th></th>\n",
       "      <th></th>\n",
       "      <th>mail</th>\n",
       "      <th>movie</th>\n",
       "    </tr>\n",
       "    <tr>\n",
       "      <th>date</th>\n",
       "      <th>rating</th>\n",
       "      <th></th>\n",
       "      <th></th>\n",
       "    </tr>\n",
       "  </thead>\n",
       "  <tbody>\n",
       "    <tr>\n",
       "      <th>15928</th>\n",
       "      <th>3</th>\n",
       "      <td>0a9577eb6c5aec7d2755674930a6d0be4343ae8cd22f88...</td>\n",
       "      <td>f3e479ad5c430c1114814170bfdffb91f261dac75c1123...</td>\n",
       "    </tr>\n",
       "  </tbody>\n",
       "</table>\n",
       "</div>"
      ],
      "text/plain": [
       "                                                           mail  \\\n",
       "date  rating                                                      \n",
       "15928 3       0a9577eb6c5aec7d2755674930a6d0be4343ae8cd22f88...   \n",
       "\n",
       "                                                          movie  \n",
       "date  rating                                                     \n",
       "15928 3       f3e479ad5c430c1114814170bfdffb91f261dac75c1123...  "
      ]
     },
     "execution_count": 380,
     "metadata": {},
     "output_type": "execute_result"
    }
   ],
   "source": [
    "data_crypt[0].set_index(clear_cols).loc[my_ratings_1[0]]"
   ]
  },
  {
   "cell_type": "markdown",
   "metadata": {},
   "source": [
    "## Just to be sure"
   ]
  },
  {
   "cell_type": "code",
   "execution_count": 381,
   "metadata": {},
   "outputs": [
    {
     "data": {
      "text/plain": [
       "'0a9577eb6c5aec7d2755674930a6d0be4343ae8cd22f886104703e1fd536a324'"
      ]
     },
     "execution_count": 381,
     "metadata": {},
     "output_type": "execute_result"
    }
   ],
   "source": [
    "associated_crypt = [data_crypt[0].set_index(clear_cols).loc[r].values.tolist() for r in my_ratings_1]\n",
    "possible_crypt_mail = {m:0 for l in associated_crypt for m, _ in l}\n",
    "\n",
    "for l in associated_crypt:\n",
    "    for m, _ in l:\n",
    "        possible_crypt_mail[m] += 1\n",
    "        \n",
    "        \n",
    "my_mail_crypt_1 = max(possible_crypt_mail.items(), key=lambda x: x[1])[0]\n",
    "my_mail_crypt_1"
   ]
  },
  {
   "cell_type": "code",
   "execution_count": 382,
   "metadata": {},
   "outputs": [],
   "source": [
    "my_movies_crypt = data_crypt[0].set_index(['mail']).loc[my_mail_crypt_1]['movie'].values.tolist()"
   ]
  },
  {
   "cell_type": "code",
   "execution_count": 383,
   "metadata": {},
   "outputs": [],
   "source": [
    "count_per_movie = {m:dict() for m in my_movies_crypt}\n",
    "movie_to_name = dict()\n",
    "\n",
    "for m in my_movies_crypt:\n",
    "    ratings = data_crypt[0].set_index('movie').loc[m][clear_cols].values.tolist()\n",
    "    for r in ratings:\n",
    "        for movie_name in data_clear[0].set_index(clear_cols).loc[r]['movie'].values.tolist():\n",
    "            count_per_movie[m][movie_name] = count_per_movie[m].get(movie_name, 0) + 1\n",
    "    movie_to_name[m] = max(count_per_movie[m].items(), key=lambda x: x[1])[0]"
   ]
  },
  {
   "cell_type": "code",
   "execution_count": 384,
   "metadata": {},
   "outputs": [
    {
     "data": {
      "text/plain": [
       "{'c7e94fe3900cc5a4013b912b29b8e668febedc18ebc3b790d8f2d0a81ed6357c': 'The Night of the Hunter',\n",
       " '65b3ace60011c8dcacef9e0ba9e85eca78baa76a817360da584c147330a27845': 'The 400 Blows',\n",
       " 'f3e479ad5c430c1114814170bfdffb91f261dac75c112323e2dba42b51d198ee': 'Goodfellas',\n",
       " '61d50c589d14df9becd1b630dfd5caba0bdad6771415a282a33c4f0df803a5b7': 'Fanny and Alexander',\n",
       " '68d84c3e5d6648fe935bf8922dbdda79fb09359854a02a8a0998cf90bb04f26e': 'Paths of Glory',\n",
       " '6f0aed3bf9fae6199d41ce5fbb1ba0cfae6994296668e45cea979e5976b42757': 'Once Upon a Time in the West',\n",
       " 'a56a713016a3947059840712435afa5a77475691918448a6f4daf49d81b39d3c': 'Spirited Away',\n",
       " '2356e206c533e3a35e7c8248d7f5a3f4a10caa0e545103c064ec62074287bf66': 'The Godfather: Part II',\n",
       " 'e218ba02398a45d0c18232b2f8878e27815746861dbabee215f6fc4499cc9c2c': 'Rear Window',\n",
       " '78ad872070f45601d154c0b4c561b6c25a5a2ad602083cef774b592870c9aade': 'The Third Man'}"
      ]
     },
     "execution_count": 384,
     "metadata": {},
     "output_type": "execute_result"
    }
   ],
   "source": [
    "movie_to_name"
   ]
  },
  {
   "cell_type": "code",
   "execution_count": 388,
   "metadata": {},
   "outputs": [],
   "source": [
    "with open('ex1a.txt', 'w') as file: \n",
    "    file.write('\\n'.join(movie_to_name.values()))"
   ]
  },
  {
   "cell_type": "markdown",
   "metadata": {},
   "source": [
    "# Part 2"
   ]
  },
  {
   "cell_type": "code",
   "execution_count": 389,
   "metadata": {},
   "outputs": [
    {
     "data": {
      "text/plain": [
       "{1, 2, 3, 4, 5}"
      ]
     },
     "execution_count": 389,
     "metadata": {},
     "output_type": "execute_result"
    }
   ],
   "source": [
    "set(data_clear[1]['rating'].values)"
   ]
  },
  {
   "cell_type": "code",
   "execution_count": 390,
   "metadata": {},
   "outputs": [
    {
     "data": {
      "text/plain": [
       "(4554, 5060)"
      ]
     },
     "execution_count": 390,
     "metadata": {},
     "output_type": "execute_result"
    }
   ],
   "source": [
    "len(data_clear[1]), len(data_crypt[1])"
   ]
  },
  {
   "cell_type": "code",
   "execution_count": 391,
   "metadata": {},
   "outputs": [
    {
     "data": {
      "text/plain": [
       "['Seven Samurai',\n",
       " 'Psycho',\n",
       " \"Singin' in the Rain\",\n",
       " 'The Third Man',\n",
       " 'The Good, the Bad and the Ugly',\n",
       " 'M',\n",
       " 'The Godfather',\n",
       " 'Lawrence of Arabia',\n",
       " '12 Angry Men',\n",
       " 'Spirited Away',\n",
       " \"Schindler's List\",\n",
       " 'City Lights',\n",
       " 'Bicycle Thieves',\n",
       " 'Goodfellas',\n",
       " 'Pulp Fiction',\n",
       " 'Apocalypse Now',\n",
       " 'The Shawshank Redemption',\n",
       " 'Metropolis']"
      ]
     },
     "execution_count": 391,
     "metadata": {},
     "output_type": "execute_result"
    }
   ],
   "source": [
    "data_clear[1].set_index('mail').loc[mail_greg]['movie'].values.tolist()"
   ]
  },
  {
   "cell_type": "code",
   "execution_count": 392,
   "metadata": {},
   "outputs": [
    {
     "data": {
      "text/html": [
       "<div>\n",
       "<style scoped>\n",
       "    .dataframe tbody tr th:only-of-type {\n",
       "        vertical-align: middle;\n",
       "    }\n",
       "\n",
       "    .dataframe tbody tr th {\n",
       "        vertical-align: top;\n",
       "    }\n",
       "\n",
       "    .dataframe thead th {\n",
       "        text-align: right;\n",
       "    }\n",
       "</style>\n",
       "<table border=\"1\" class=\"dataframe\">\n",
       "  <thead>\n",
       "    <tr style=\"text-align: right;\">\n",
       "      <th></th>\n",
       "      <th>movie</th>\n",
       "      <th>date</th>\n",
       "    </tr>\n",
       "  </thead>\n",
       "  <tbody>\n",
       "    <tr>\n",
       "      <th>0</th>\n",
       "      <td>1950dcc430ede76265e70d2add492dba8b8f92b3a5a919...</td>\n",
       "      <td>1</td>\n",
       "    </tr>\n",
       "    <tr>\n",
       "      <th>1</th>\n",
       "      <td>1ff7ca975bb4e22646fb68093b279a1d904717c99cd8c0...</td>\n",
       "      <td>15</td>\n",
       "    </tr>\n",
       "    <tr>\n",
       "      <th>2</th>\n",
       "      <td>497d48a05bedb560fef6604ac6aaa1da192cc0e65e3dd9...</td>\n",
       "      <td>16</td>\n",
       "    </tr>\n",
       "    <tr>\n",
       "      <th>3</th>\n",
       "      <td>3f4ee2f4cf78ba35a818970f17d074f864b8145a742ab7...</td>\n",
       "      <td>22</td>\n",
       "    </tr>\n",
       "    <tr>\n",
       "      <th>4</th>\n",
       "      <td>176a3a37ec973f5322bd893fabfbd6f4ab40d78f04069d...</td>\n",
       "      <td>29</td>\n",
       "    </tr>\n",
       "  </tbody>\n",
       "</table>\n",
       "</div>"
      ],
      "text/plain": [
       "                                               movie  date\n",
       "0  1950dcc430ede76265e70d2add492dba8b8f92b3a5a919...     1\n",
       "1  1ff7ca975bb4e22646fb68093b279a1d904717c99cd8c0...    15\n",
       "2  497d48a05bedb560fef6604ac6aaa1da192cc0e65e3dd9...    16\n",
       "3  3f4ee2f4cf78ba35a818970f17d074f864b8145a742ab7...    22\n",
       "4  176a3a37ec973f5322bd893fabfbd6f4ab40d78f04069d...    29"
      ]
     },
     "execution_count": 392,
     "metadata": {},
     "output_type": "execute_result"
    }
   ],
   "source": [
    "movie_crypt_freq = data_crypt[1]\\\n",
    "    .pivot_table(values='date', index='movie', aggfunc=len)\\\n",
    "    .fillna(0)\\\n",
    "    .sort_values('date')\\\n",
    "    .reset_index()\n",
    "movie_crypt_freq.head()"
   ]
  },
  {
   "cell_type": "code",
   "execution_count": 393,
   "metadata": {},
   "outputs": [
    {
     "data": {
      "text/html": [
       "<div>\n",
       "<style scoped>\n",
       "    .dataframe tbody tr th:only-of-type {\n",
       "        vertical-align: middle;\n",
       "    }\n",
       "\n",
       "    .dataframe tbody tr th {\n",
       "        vertical-align: top;\n",
       "    }\n",
       "\n",
       "    .dataframe thead th {\n",
       "        text-align: right;\n",
       "    }\n",
       "</style>\n",
       "<table border=\"1\" class=\"dataframe\">\n",
       "  <thead>\n",
       "    <tr style=\"text-align: right;\">\n",
       "      <th></th>\n",
       "      <th>movie</th>\n",
       "      <th>date</th>\n",
       "    </tr>\n",
       "  </thead>\n",
       "  <tbody>\n",
       "    <tr>\n",
       "      <th>0</th>\n",
       "      <td>A Separation</td>\n",
       "      <td>1</td>\n",
       "    </tr>\n",
       "    <tr>\n",
       "      <th>1</th>\n",
       "      <td>The Silence of the Lambs</td>\n",
       "      <td>5</td>\n",
       "    </tr>\n",
       "    <tr>\n",
       "      <th>2</th>\n",
       "      <td>All About Eve</td>\n",
       "      <td>6</td>\n",
       "    </tr>\n",
       "    <tr>\n",
       "      <th>3</th>\n",
       "      <td>Tokyo Story</td>\n",
       "      <td>11</td>\n",
       "    </tr>\n",
       "    <tr>\n",
       "      <th>4</th>\n",
       "      <td>The Wages of Fear</td>\n",
       "      <td>19</td>\n",
       "    </tr>\n",
       "  </tbody>\n",
       "</table>\n",
       "</div>"
      ],
      "text/plain": [
       "                      movie  date\n",
       "0              A Separation     1\n",
       "1  The Silence of the Lambs     5\n",
       "2             All About Eve     6\n",
       "3               Tokyo Story    11\n",
       "4         The Wages of Fear    19"
      ]
     },
     "execution_count": 393,
     "metadata": {},
     "output_type": "execute_result"
    }
   ],
   "source": [
    "movie_clear_freq = data_clear[1]\\\n",
    "    .pivot_table(values='date', index='movie', aggfunc=len)\\\n",
    "    .fillna(0)\\\n",
    "    .sort_values('date')\\\n",
    "    .reset_index()\n",
    "movie_clear_freq.head()"
   ]
  },
  {
   "cell_type": "code",
   "execution_count": 394,
   "metadata": {},
   "outputs": [],
   "source": [
    "sha_to_movie = dict(pd.concat((movie_crypt_freq, movie_clear_freq), axis=1)['movie'].values.tolist())\n",
    "movie_to_sha = {m:s for s,m in sha_to_movie.items()}"
   ]
  },
  {
   "cell_type": "code",
   "execution_count": 395,
   "metadata": {},
   "outputs": [
    {
     "data": {
      "text/plain": [
       "'1950dcc430ede76265e70d2add492dba8b8f92b3a5a9191c05345a3b4e782f9f'"
      ]
     },
     "execution_count": 395,
     "metadata": {},
     "output_type": "execute_result"
    }
   ],
   "source": [
    "movie_to_sha['A Separation']"
   ]
  },
  {
   "cell_type": "code",
   "execution_count": 397,
   "metadata": {},
   "outputs": [
    {
     "data": {
      "text/plain": [
       "18"
      ]
     },
     "execution_count": 397,
     "metadata": {},
     "output_type": "execute_result"
    }
   ],
   "source": [
    "my_movies_2 = data_clear[1].set_index('mail').loc[mail_greg]['movie'].values.tolist()\n",
    "len(my_movies_2)"
   ]
  },
  {
   "cell_type": "code",
   "execution_count": 398,
   "metadata": {},
   "outputs": [
    {
     "data": {
      "text/plain": [
       "['Seven Samurai',\n",
       " 'Psycho',\n",
       " \"Singin' in the Rain\",\n",
       " 'The Third Man',\n",
       " 'The Good, the Bad and the Ugly',\n",
       " 'M',\n",
       " 'The Godfather',\n",
       " 'Lawrence of Arabia',\n",
       " '12 Angry Men',\n",
       " 'Spirited Away',\n",
       " \"Schindler's List\",\n",
       " 'City Lights',\n",
       " 'Bicycle Thieves',\n",
       " 'Goodfellas',\n",
       " 'Pulp Fiction',\n",
       " 'Apocalypse Now',\n",
       " 'The Shawshank Redemption',\n",
       " 'Metropolis']"
      ]
     },
     "execution_count": 398,
     "metadata": {},
     "output_type": "execute_result"
    }
   ],
   "source": [
    "my_movies_2"
   ]
  },
  {
   "cell_type": "code",
   "execution_count": 399,
   "metadata": {},
   "outputs": [],
   "source": [
    "all_mails = []\n",
    "for m in my_movies_2:\n",
    "    mails = data_crypt[1].set_index('movie').loc[movie_to_sha[m]]['mail']\n",
    "    if type(mails) == str:\n",
    "        all_mails.append(mails)\n",
    "    else:\n",
    "        for mail in mails.values.tolist():\n",
    "            all_mails.append(mail)"
   ]
  },
  {
   "cell_type": "code",
   "execution_count": 443,
   "metadata": {},
   "outputs": [],
   "source": [
    "all_mails = [mail for m in my_movies_2 for mail in data_crypt[1].set_index('movie').loc[[movie_to_sha[m]]]['mail'].values.tolist()]"
   ]
  },
  {
   "cell_type": "code",
   "execution_count": 445,
   "metadata": {},
   "outputs": [
    {
     "data": {
      "text/plain": [
       "[('0c602ad9789dad6442f6d2d54a199c3b69258477457efe22c9baef2c5010a180', 18),\n",
       " ('a1ae87cd9a492c0d50ddf701c5884fb9fbd2b16c98d4ff6d79c05bdd63b4899f', 14),\n",
       " ('c30e5c041d2452f3981ea3a22cac42b8a736bf7ffcfcf4baa46eca3a87ebb19d', 14),\n",
       " ('4f4bc4054e14c5291242d2accc17489b895328742e96339b3326dfa957c120b6', 14),\n",
       " ('3e066b8cb1acf0412ae2e621f66e32ba79e0b78b5359ba4230498f5c65462308', 13)]"
      ]
     },
     "execution_count": 445,
     "metadata": {},
     "output_type": "execute_result"
    }
   ],
   "source": [
    "sorted({m:all_mails.count(m) for m in set(all_mails)}.items(), key=lambda x:x[1], reverse=True)[:5]"
   ]
  },
  {
   "cell_type": "code",
   "execution_count": 401,
   "metadata": {},
   "outputs": [],
   "source": [
    "mail_crypt_2, _ = max({m:all_mails.count(m) for m in set(all_mails)}.items(), key=lambda x:x[1])"
   ]
  },
  {
   "cell_type": "code",
   "execution_count": 402,
   "metadata": {},
   "outputs": [],
   "source": [
    "my_movies_crypt_2 = data_crypt[1].set_index(['mail']).loc[mail_crypt_2]['movie'].values.tolist()"
   ]
  },
  {
   "cell_type": "code",
   "execution_count": 403,
   "metadata": {},
   "outputs": [],
   "source": [
    "movie_to_name_2 = {m:sha_to_movie[m] for m in my_movies_crypt_2}"
   ]
  },
  {
   "cell_type": "code",
   "execution_count": 404,
   "metadata": {},
   "outputs": [
    {
     "data": {
      "text/plain": [
       "{'On the Waterfront', 'Raiders of the Lost Ark'}"
      ]
     },
     "execution_count": 404,
     "metadata": {},
     "output_type": "execute_result"
    }
   ],
   "source": [
    "set(movie_to_name_2.values()) - set(my_movies_2)"
   ]
  },
  {
   "cell_type": "code",
   "execution_count": 405,
   "metadata": {},
   "outputs": [
    {
     "name": "stdout",
     "output_type": "stream",
     "text": [
      "Psycho\n",
      "Seven Samurai\n",
      "Apocalypse Now\n",
      "Metropolis\n",
      "Spirited Away\n",
      "The Shawshank Redemption\n",
      "Pulp Fiction\n",
      "City Lights\n",
      "12 Angry Men\n",
      "The Godfather\n",
      "Singin' in the Rain\n",
      "The Good, the Bad and the Ugly\n",
      "Bicycle Thieves\n",
      "Lawrence of Arabia\n",
      "On the Waterfront\n",
      "Goodfellas\n",
      "M\n",
      "The Third Man\n",
      "Schindler's List\n",
      "Raiders of the Lost Ark\n"
     ]
    }
   ],
   "source": [
    "with open('ex1b.txt', 'w') as file:\n",
    "    txt = '\\n'.join(movie_to_name_2.values())\n",
    "    print(txt)\n",
    "    file.write(txt)"
   ]
  },
  {
   "cell_type": "markdown",
   "metadata": {},
   "source": [
    "# Part 3"
   ]
  },
  {
   "cell_type": "code",
   "execution_count": 406,
   "metadata": {},
   "outputs": [
    {
     "data": {
      "text/plain": [
       "(12650, 25300)"
      ]
     },
     "execution_count": 406,
     "metadata": {},
     "output_type": "execute_result"
    }
   ],
   "source": [
    "len(data_clear[2]), len(data_crypt[2])"
   ]
  },
  {
   "cell_type": "code",
   "execution_count": 407,
   "metadata": {},
   "outputs": [],
   "source": [
    "weights = list(range(1,15))+list(range(13, 0, -1))"
   ]
  },
  {
   "cell_type": "code",
   "execution_count": 408,
   "metadata": {},
   "outputs": [
    {
     "data": {
      "text/html": [
       "<div>\n",
       "<style scoped>\n",
       "    .dataframe tbody tr th:only-of-type {\n",
       "        vertical-align: middle;\n",
       "    }\n",
       "\n",
       "    .dataframe tbody tr th {\n",
       "        vertical-align: top;\n",
       "    }\n",
       "\n",
       "    .dataframe thead th {\n",
       "        text-align: right;\n",
       "    }\n",
       "</style>\n",
       "<table border=\"1\" class=\"dataframe\">\n",
       "  <thead>\n",
       "    <tr style=\"text-align: right;\">\n",
       "      <th></th>\n",
       "      <th>mail</th>\n",
       "      <th>movie</th>\n",
       "      <th>date</th>\n",
       "      <th>rating</th>\n",
       "    </tr>\n",
       "  </thead>\n",
       "  <tbody>\n",
       "    <tr>\n",
       "      <th>0</th>\n",
       "      <td>taehyun.lee@epfl.ch</td>\n",
       "      <td>Badlands</td>\n",
       "      <td>11323</td>\n",
       "      <td>4</td>\n",
       "    </tr>\n",
       "    <tr>\n",
       "      <th>1</th>\n",
       "      <td>valentin.meylan@epfl.ch</td>\n",
       "      <td>Boyhood</td>\n",
       "      <td>11323</td>\n",
       "      <td>2</td>\n",
       "    </tr>\n",
       "    <tr>\n",
       "      <th>2</th>\n",
       "      <td>delphine.peter@epfl.ch</td>\n",
       "      <td>Memories of Murder</td>\n",
       "      <td>11323</td>\n",
       "      <td>1</td>\n",
       "    </tr>\n",
       "    <tr>\n",
       "      <th>3</th>\n",
       "      <td>irina.kozlova@epfl.ch</td>\n",
       "      <td>L'Avventura</td>\n",
       "      <td>11688</td>\n",
       "      <td>1</td>\n",
       "    </tr>\n",
       "    <tr>\n",
       "      <th>4</th>\n",
       "      <td>mohamed.ndoye@epfl.ch</td>\n",
       "      <td>M</td>\n",
       "      <td>11688</td>\n",
       "      <td>4</td>\n",
       "    </tr>\n",
       "  </tbody>\n",
       "</table>\n",
       "</div>"
      ],
      "text/plain": [
       "                      mail               movie   date  rating\n",
       "0      taehyun.lee@epfl.ch            Badlands  11323       4\n",
       "1  valentin.meylan@epfl.ch             Boyhood  11323       2\n",
       "2   delphine.peter@epfl.ch  Memories of Murder  11323       1\n",
       "3    irina.kozlova@epfl.ch         L'Avventura  11688       1\n",
       "4    mohamed.ndoye@epfl.ch                   M  11688       4"
      ]
     },
     "execution_count": 408,
     "metadata": {},
     "output_type": "execute_result"
    }
   ],
   "source": [
    "data_clear[2].head()"
   ]
  },
  {
   "cell_type": "code",
   "execution_count": 409,
   "metadata": {},
   "outputs": [],
   "source": [
    "a = pd.to_datetime('01/02/03', format='%d/%m/%y')"
   ]
  },
  {
   "cell_type": "code",
   "execution_count": 319,
   "metadata": {},
   "outputs": [],
   "source": [
    "set_my_movies = list(set(data_clear[2].set_index('mail').loc[mail_greg]['movie'].values.tolist()))\n",
    "set_movies_clear = list(set(data_clear[2]['movie'].values.tolist()))\n",
    "set_movies_crypt = list(set(data_crypt[2]['movie'].values.tolist()))"
   ]
  },
  {
   "cell_type": "code",
   "execution_count": 452,
   "metadata": {},
   "outputs": [
    {
     "data": {
      "text/plain": [
       "0    11323\n",
       "1    11323\n",
       "2    11323\n",
       "3    11688\n",
       "4    11688\n",
       "Name: date, dtype: int64"
      ]
     },
     "execution_count": 452,
     "metadata": {},
     "output_type": "execute_result"
    }
   ],
   "source": [
    "data_clear[2]['date'].head()"
   ]
  },
  {
   "cell_type": "code",
   "execution_count": 453,
   "metadata": {},
   "outputs": [],
   "source": [
    "from tqdm import tqdm_notebook as tqdm"
   ]
  },
  {
   "cell_type": "code",
   "execution_count": 454,
   "metadata": {},
   "outputs": [
    {
     "data": {
      "application/vnd.jupyter.widget-view+json": {
       "model_id": "7e2b658f73304f7e914fbb1a1dd8a6d3",
       "version_major": 2,
       "version_minor": 0
      },
      "text/plain": [
       "HBox(children=(IntProgress(value=0, max=300), HTML(value='')))"
      ]
     },
     "metadata": {},
     "output_type": "display_data"
    },
    {
     "name": "stdout",
     "output_type": "stream",
     "text": [
      "\n"
     ]
    }
   ],
   "source": [
    "movie_to_sha = dict()\n",
    "for movie in tqdm(set_movies_clear):\n",
    "    movie_score = dict()\n",
    "    for date in data_clear[2].set_index('movie').loc[movie]['date'].values.tolist():\n",
    "        mask = data_crypt[2]['date'].apply(lambda x: date - 14 < x < date + 14)\n",
    "        for movie_crypt, date2 in data_crypt[2][mask][['movie', 'date']].values.tolist():\n",
    "            movie_score[movie_crypt] = movie_score.get(movie_crypt, 0) + weights[date - date2 + 13]\n",
    "    movie_to_sha[movie] = max(movie_score.items(), key=lambda x:x[1])[0]"
   ]
  },
  {
   "cell_type": "code",
   "execution_count": 459,
   "metadata": {},
   "outputs": [],
   "source": [
    "sha_to_movie = {s:m for m,s in movie_to_sha.items()}"
   ]
  },
  {
   "cell_type": "code",
   "execution_count": 461,
   "metadata": {},
   "outputs": [
    {
     "data": {
      "text/plain": [
       "(300, 300)"
      ]
     },
     "execution_count": 461,
     "metadata": {},
     "output_type": "execute_result"
    }
   ],
   "source": [
    "len(movie_to_sha), len(sha_to_movie)"
   ]
  },
  {
   "cell_type": "code",
   "execution_count": 466,
   "metadata": {},
   "outputs": [],
   "source": [
    "all_mails = []\n",
    "for m in set_my_movies:\n",
    "    mails = data_crypt[2].set_index('movie').loc[movie_to_sha[m]]['mail']\n",
    "    if type(mails) == str:\n",
    "        all_mails.append(mails)\n",
    "    else:\n",
    "        for mail in mails.values.tolist():\n",
    "            all_mails.append(mail)"
   ]
  },
  {
   "cell_type": "code",
   "execution_count": 467,
   "metadata": {},
   "outputs": [
    {
     "data": {
      "text/plain": [
       "[('f189cc88622d2f85b27c86fcec9a644bd21e34f8675757d668622dd173d436d3', 50),\n",
       " ('5d113001f2951ad22282fa5acf63955c8c8f8da4a56cea1e56b2d8e54f2a901c', 26),\n",
       " ('d44ec2cf4bc620726afa6799b6ff8e083cfb30b6d123e87ce1718b6e60cbc7a1', 26),\n",
       " ('f700431f8905508072db828ff88d1d61a969502f72987e3ce5598abb57f8a95b', 24),\n",
       " ('e90eceb959daeb4334baa6e2d0952f1011c9a64db48f8a8ff38ea3309614925b', 24)]"
      ]
     },
     "execution_count": 467,
     "metadata": {},
     "output_type": "execute_result"
    }
   ],
   "source": [
    "sorted({m:all_mails.count(m) for m in set(all_mails)}.items(), key=lambda x:x[1], reverse=True)[:5]"
   ]
  },
  {
   "cell_type": "code",
   "execution_count": 469,
   "metadata": {},
   "outputs": [
    {
     "data": {
      "text/plain": [
       "'f189cc88622d2f85b27c86fcec9a644bd21e34f8675757d668622dd173d436d3'"
      ]
     },
     "execution_count": 469,
     "metadata": {},
     "output_type": "execute_result"
    }
   ],
   "source": [
    "my_mail_crypt_3, _ = max({m:all_mails.count(m) for m in set(all_mails)}.items(), key=lambda x:x[1])\n",
    "my_mail_crypt_3"
   ]
  },
  {
   "cell_type": "code",
   "execution_count": 471,
   "metadata": {},
   "outputs": [],
   "source": [
    "my_movies_crypt_3 = data_crypt[2].set_index(['mail']).loc[my_mail_crypt_3]['movie'].values.tolist()"
   ]
  },
  {
   "cell_type": "code",
   "execution_count": 474,
   "metadata": {},
   "outputs": [],
   "source": [
    "my_movies_3 = [sha_to_movie[m] for m in my_movies_crypt_3]"
   ]
  },
  {
   "cell_type": "code",
   "execution_count": 475,
   "metadata": {},
   "outputs": [
    {
     "name": "stdout",
     "output_type": "stream",
     "text": [
      "Full Metal Jacket\n",
      "Once Upon a Time in America\n",
      "The Iron Giant\n",
      "A Streetcar Named Desire\n",
      "Hannah and Her Sisters\n",
      "Dog Day Afternoon\n",
      "Ran\n",
      "The Matrix\n",
      "Throne of Blood\n",
      "Toy Story 3\n",
      "Spirited Away\n",
      "The Exterminating Angel\n",
      "The Shawshank Redemption\n",
      "The Lord of the Rings: The Return of the King\n",
      "Harold and Maude\n",
      "The Wages of Fear\n",
      "Harry Potter and the Deathly Hallows: Part 2\n",
      "Rosemary's Baby\n",
      "Blue Velvet\n",
      "Terminator 2: Judgment Day\n",
      "In the Mood for Love\n",
      "Kind Hearts and Coronets\n",
      "The Great Escape\n",
      "Frankenstein\n",
      "The Seventh Seal\n",
      "Toy Story 2\n",
      "The Philadelphia Story\n",
      "The Gold Rush\n",
      "Lagaan: Once Upon a Time in India\n",
      "To Be or Not to Be\n",
      "To Kill a Mockingbird\n",
      "Blade Runner\n",
      "Yojimbo\n",
      "Star Wars: Episode V - The Empire Strikes Back\n",
      "Saving Private Ryan\n",
      "Whiplash\n",
      "Incendies\n",
      "Rome, Open City\n",
      "Laura\n",
      "Cinema Paradiso\n",
      "Life of Brian\n",
      "Before Sunset\n",
      "Persepolis\n",
      "Trainspotting\n",
      "The Diving Bell and the Butterfly\n",
      "It's a Wonderful Life\n",
      "The Deer Hunter\n",
      "The Last Picture Show\n",
      "Fight Club\n",
      "Citizen Kane\n",
      "Woman in the Dunes\n",
      "L.A. Confidential\n",
      "Anatomy of a Murder\n",
      "The Bridge on the River Kwai\n",
      "Wings of Desire\n",
      "The Treasure of the Sierra Madre\n",
      "Alien\n",
      "Sullivan's Travels\n",
      "Oldboy\n",
      "The Lord of the Rings: The Two Towers\n",
      "The Elephant Man\n",
      "Jules and Jim\n",
      "Barry Lyndon\n",
      "Toy Story\n",
      "A Prophet\n",
      "La Dolce Vita\n",
      "Forrest Gump\n",
      "Psycho\n",
      "The Big Sleep\n",
      "Die Hard\n",
      "The Departed\n",
      "Patton: A Salute to a Rebel\n",
      "Tokyo Story\n",
      "Sunrise\n",
      "The Princess Bride\n",
      "Amores perros\n",
      "The Godfather\n",
      "Ikiru\n",
      "Grave of the Fireflies\n",
      "2001: A Space Odyssey\n",
      "There Will Be Blood\n",
      "Duck Soup\n",
      "The Big Lebowski\n",
      "Jaws\n",
      "L'Avventura\n",
      "The Leopard\n",
      "Short Term 12\n",
      "The Pianist\n",
      "The Conversation\n",
      "Unforgiven\n",
      "The Lives of Others\n",
      "The Hustler\n",
      "Finding Nemo\n",
      "A Hard Day's Night\n",
      "The Mirror\n",
      "Halloween\n",
      "Inside Out\n",
      "Being There\n",
      "City Lights\n",
      "Aguirre, the Wrath of God\n"
     ]
    }
   ],
   "source": [
    "with open('ex1c.txt', 'w') as file:\n",
    "    txt = '\\n'.join(my_movies_3)\n",
    "    print(txt)\n",
    "    file.write(txt)"
   ]
  },
  {
   "cell_type": "code",
   "execution_count": null,
   "metadata": {},
   "outputs": [],
   "source": []
  }
 ],
 "metadata": {
  "kernelspec": {
   "display_name": "Python 3",
   "language": "python",
   "name": "python3"
  },
  "language_info": {
   "codemirror_mode": {
    "name": "ipython",
    "version": 3
   },
   "file_extension": ".py",
   "mimetype": "text/x-python",
   "name": "python",
   "nbconvert_exporter": "python",
   "pygments_lexer": "ipython3",
   "version": "3.6.8"
  }
 },
 "nbformat": 4,
 "nbformat_minor": 2
}
